{
  "nbformat": 4,
  "nbformat_minor": 0,
  "metadata": {
    "colab": {
      "name": "Transfer Learning.ipynb",
      "provenance": [],
      "collapsed_sections": []
    },
    "kernelspec": {
      "name": "python3",
      "display_name": "Python 3"
    },
    "accelerator": "GPU"
  },
  "cells": [
    {
      "cell_type": "code",
      "metadata": {
        "colab_type": "code",
        "id": "1xJZ5glPPCRz",
        "outputId": "832e2521-11cd-44cc-a98f-c62fa3b4ff79",
        "colab": {
          "base_uri": "https://localhost:8080/",
          "height": 289
        }
      },
      "source": [
        "import os\n",
        "\n",
        "from tensorflow.keras import layers\n",
        "from tensorflow.keras import Model\n",
        "!wget --no-check-certificate \\\n",
        "    https://storage.googleapis.com/mledu-datasets/inception_v3_weights_tf_dim_ordering_tf_kernels_notop.h5 \\\n",
        "    -O /tmp/inception_v3_weights_tf_dim_ordering_tf_kernels_notop.h5\n",
        "  \n",
        "from tensorflow.keras.applications.inception_v3 import InceptionV3\n",
        "\n",
        "local_weights_file = '/tmp/inception_v3_weights_tf_dim_ordering_tf_kernels_notop.h5'\n",
        "\n",
        "pre_trained_model = InceptionV3(input_shape = (150, 150, 3), \n",
        "                                include_top = False, \n",
        "                                weights = None)\n",
        "\n",
        "pre_trained_model.load_weights(local_weights_file)\n",
        "\n",
        "for layer in pre_trained_model.layers:\n",
        "  layer.trainable = False\n",
        "  \n",
        "# pre_trained_model.summary()\n",
        "\n",
        "last_layer = pre_trained_model.get_layer('mixed7')\n",
        "print('last layer output shape: ', last_layer.output_shape)\n",
        "last_output = last_layer.output"
      ],
      "execution_count": 1,
      "outputs": [
        {
          "output_type": "stream",
          "text": [
            "--2019-10-16 19:44:02--  https://storage.googleapis.com/mledu-datasets/inception_v3_weights_tf_dim_ordering_tf_kernels_notop.h5\n",
            "Resolving storage.googleapis.com (storage.googleapis.com)... 173.194.76.128, 2a00:1450:400c:c04::80\n",
            "Connecting to storage.googleapis.com (storage.googleapis.com)|173.194.76.128|:443... connected.\n",
            "HTTP request sent, awaiting response... 200 OK\n",
            "Length: 87910968 (84M) [application/x-hdf]\n",
            "Saving to: ‘/tmp/inception_v3_weights_tf_dim_ordering_tf_kernels_notop.h5’\n",
            "\n",
            "/tmp/inception_v3_w 100%[===================>]  83.84M  78.4MB/s    in 1.1s    \n",
            "\n",
            "2019-10-16 19:44:04 (78.4 MB/s) - ‘/tmp/inception_v3_weights_tf_dim_ordering_tf_kernels_notop.h5’ saved [87910968/87910968]\n",
            "\n",
            "WARNING:tensorflow:From /usr/local/lib/python3.6/dist-packages/tensorflow_core/python/ops/resource_variable_ops.py:1630: calling BaseResourceVariable.__init__ (from tensorflow.python.ops.resource_variable_ops) with constraint is deprecated and will be removed in a future version.\n",
            "Instructions for updating:\n",
            "If using Keras pass *_constraint arguments to layers.\n",
            "last layer output shape:  (None, 7, 7, 768)\n"
          ],
          "name": "stdout"
        }
      ]
    },
    {
      "cell_type": "code",
      "metadata": {
        "id": "bAdC3MhSPwbz",
        "colab_type": "code",
        "colab": {
          "base_uri": "https://localhost:8080/",
          "height": 84
        },
        "outputId": "72cdf8cf-1bc6-48bc-bfaa-60a5088f8617"
      },
      "source": [
        "last_layer.input"
      ],
      "execution_count": 15,
      "outputs": [
        {
          "output_type": "execute_result",
          "data": {
            "text/plain": [
              "[<tf.Tensor 'activation_60/Relu:0' shape=(?, 7, 7, 192) dtype=float32>,\n",
              " <tf.Tensor 'activation_63/Relu:0' shape=(?, 7, 7, 192) dtype=float32>,\n",
              " <tf.Tensor 'activation_68/Relu:0' shape=(?, 7, 7, 192) dtype=float32>,\n",
              " <tf.Tensor 'activation_69/Relu:0' shape=(?, 7, 7, 192) dtype=float32>]"
            ]
          },
          "metadata": {
            "tags": []
          },
          "execution_count": 15
        }
      ]
    },
    {
      "cell_type": "code",
      "metadata": {
        "id": "bZD7GbxXP5we",
        "colab_type": "code",
        "colab": {
          "base_uri": "https://localhost:8080/",
          "height": 34
        },
        "outputId": "994a458e-b0ef-4dd4-dcec-ddc217f7d7e2"
      },
      "source": [
        "last_layer.output"
      ],
      "execution_count": 16,
      "outputs": [
        {
          "output_type": "execute_result",
          "data": {
            "text/plain": [
              "<tf.Tensor 'mixed7/concat:0' shape=(?, 7, 7, 768) dtype=float32>"
            ]
          },
          "metadata": {
            "tags": []
          },
          "execution_count": 16
        }
      ]
    },
    {
      "cell_type": "code",
      "metadata": {
        "id": "zZKOHi47GlK9",
        "colab_type": "code",
        "colab": {}
      },
      "source": [
        "# pre_trained_model.summary()"
      ],
      "execution_count": 0,
      "outputs": []
    },
    {
      "cell_type": "code",
      "metadata": {
        "colab_type": "code",
        "id": "BMXb913pbvFg",
        "colab": {}
      },
      "source": [
        "from tensorflow.keras.optimizers import RMSprop\n",
        "\n",
        "# Flatten the output layer to 1 dimension\n",
        "x = layers.Flatten()(last_output)\n",
        "# Add a fully connected layer with 1,024 hidden units and ReLU activation\n",
        "x = layers.Dense(1024, activation='relu')(x)\n",
        "# Add a dropout rate of 0.2\n",
        "x = layers.Dropout(0.2)(x)                  \n",
        "# Add a final sigmoid layer for classification\n",
        "x = layers.Dense  (1, activation='sigmoid')(x)           \n",
        "\n",
        "model = Model(pre_trained_model.input, x) \n",
        "\n",
        "model.compile(optimizer = RMSprop(lr=0.0001), \n",
        "              loss = 'binary_crossentropy', \n",
        "              metrics = ['acc'])"
      ],
      "execution_count": 0,
      "outputs": []
    },
    {
      "cell_type": "code",
      "metadata": {
        "colab_type": "code",
        "id": "O4s8HckqGlnb",
        "outputId": "cfb014c0-ab54-48de-b8c7-da0ef518d304",
        "colab": {
          "base_uri": "https://localhost:8080/",
          "height": 255
        }
      },
      "source": [
        "\n",
        "!wget --no-check-certificate \\\n",
        "        https://storage.googleapis.com/mledu-datasets/cats_and_dogs_filtered.zip \\\n",
        "       -O /tmp/cats_and_dogs_filtered.zip\n",
        "\n",
        "from tensorflow.keras.preprocessing.image import ImageDataGenerator\n",
        "\n",
        "import os\n",
        "import zipfile\n",
        "\n",
        "local_zip = '//tmp/cats_and_dogs_filtered.zip'\n",
        "\n",
        "zip_ref = zipfile.ZipFile(local_zip, 'r')\n",
        "\n",
        "zip_ref.extractall('/tmp')\n",
        "zip_ref.close()\n",
        "\n",
        "# Define our example directories and files\n",
        "base_dir = '/tmp/cats_and_dogs_filtered'\n",
        "\n",
        "train_dir = os.path.join( base_dir, 'train')\n",
        "validation_dir = os.path.join( base_dir, 'validation')\n",
        "\n",
        "\n",
        "train_cats_dir = os.path.join(train_dir, 'cats') # Directory with our training cat pictures\n",
        "train_dogs_dir = os.path.join(train_dir, 'dogs') # Directory with our training dog pictures\n",
        "validation_cats_dir = os.path.join(validation_dir, 'cats') # Directory with our validation cat pictures\n",
        "validation_dogs_dir = os.path.join(validation_dir, 'dogs')# Directory with our validation dog pictures\n",
        "\n",
        "train_cat_fnames = os.listdir(train_cats_dir)\n",
        "train_dog_fnames = os.listdir(train_dogs_dir)\n",
        "\n",
        "# Add our data-augmentation parameters to ImageDataGenerator\n",
        "train_datagen = ImageDataGenerator(rescale = 1./255.,\n",
        "                                   rotation_range = 40,\n",
        "                                   width_shift_range = 0.2,\n",
        "                                   height_shift_range = 0.2,\n",
        "                                   shear_range = 0.2,\n",
        "                                   zoom_range = 0.2,\n",
        "                                   horizontal_flip = True)\n",
        "\n",
        "# Note that the validation data should not be augmented!\n",
        "test_datagen = ImageDataGenerator( rescale = 1.0/255. )\n",
        "\n",
        "# Flow training images in batches of 20 using train_datagen generator\n",
        "train_generator = train_datagen.flow_from_directory(train_dir,\n",
        "                                                    batch_size = 20,\n",
        "                                                    class_mode = 'binary', \n",
        "                                                    target_size = (150, 150))     \n",
        "\n",
        "# Flow validation images in batches of 20 using test_datagen generator\n",
        "validation_generator =  test_datagen.flow_from_directory( validation_dir,\n",
        "                                                          batch_size  = 20,\n",
        "                                                          class_mode  = 'binary', \n",
        "                                                          target_size = (150, 150))"
      ],
      "execution_count": 11,
      "outputs": [
        {
          "output_type": "stream",
          "text": [
            "--2019-10-16 19:55:04--  https://storage.googleapis.com/mledu-datasets/cats_and_dogs_filtered.zip\n",
            "Resolving storage.googleapis.com (storage.googleapis.com)... 173.194.76.128, 2a00:1450:400c:c07::80\n",
            "Connecting to storage.googleapis.com (storage.googleapis.com)|173.194.76.128|:443... connected.\n",
            "HTTP request sent, awaiting response... 200 OK\n",
            "Length: 68606236 (65M) [application/zip]\n",
            "Saving to: ‘/tmp/cats_and_dogs_filtered.zip’\n",
            "\n",
            "/tmp/cats_and_dogs_ 100%[===================>]  65.43M  81.5MB/s    in 0.8s    \n",
            "\n",
            "2019-10-16 19:55:05 (81.5 MB/s) - ‘/tmp/cats_and_dogs_filtered.zip’ saved [68606236/68606236]\n",
            "\n",
            "Found 2000 images belonging to 2 classes.\n",
            "Found 1000 images belonging to 2 classes.\n"
          ],
          "name": "stdout"
        }
      ]
    },
    {
      "cell_type": "code",
      "metadata": {
        "colab_type": "code",
        "id": "Blhq2MAUeyGA",
        "outputId": "37b8dae5-c7d7-404b-875d-a38b27d4deb5",
        "colab": {
          "base_uri": "https://localhost:8080/",
          "height": 1000
        }
      },
      "source": [
        "history = model.fit_generator(\n",
        "            train_generator,\n",
        "            validation_data = validation_generator,\n",
        "            steps_per_epoch = 100,\n",
        "            epochs = 20,\n",
        "            validation_steps = 50,\n",
        "            verbose = 2)"
      ],
      "execution_count": 12,
      "outputs": [
        {
          "output_type": "stream",
          "text": [
            "Epoch 1/20\n",
            "Epoch 1/20\n",
            "100/100 - 29s - loss: 0.5005 - acc: 0.7515 - val_loss: 0.3259 - val_acc: 0.9040\n",
            "Epoch 2/20\n",
            "Epoch 1/20\n",
            "100/100 - 21s - loss: 0.3924 - acc: 0.8220 - val_loss: 0.3510 - val_acc: 0.9160\n",
            "Epoch 3/20\n",
            "Epoch 1/20\n",
            "100/100 - 22s - loss: 0.3736 - acc: 0.8450 - val_loss: 0.3974 - val_acc: 0.9220\n",
            "Epoch 4/20\n",
            "Epoch 1/20\n",
            "100/100 - 21s - loss: 0.3262 - acc: 0.8640 - val_loss: 0.2619 - val_acc: 0.9490\n",
            "Epoch 5/20\n",
            "Epoch 1/20\n",
            "100/100 - 21s - loss: 0.3118 - acc: 0.8660 - val_loss: 0.3752 - val_acc: 0.9370\n",
            "Epoch 6/20\n",
            "Epoch 1/20\n",
            "100/100 - 21s - loss: 0.3097 - acc: 0.8730 - val_loss: 0.2217 - val_acc: 0.9560\n",
            "Epoch 7/20\n",
            "Epoch 1/20\n",
            "100/100 - 21s - loss: 0.2829 - acc: 0.8765 - val_loss: 0.2671 - val_acc: 0.9640\n",
            "Epoch 8/20\n",
            "Epoch 1/20\n",
            "100/100 - 21s - loss: 0.3131 - acc: 0.8700 - val_loss: 0.6195 - val_acc: 0.9220\n",
            "Epoch 9/20\n",
            "Epoch 1/20\n",
            "100/100 - 21s - loss: 0.3077 - acc: 0.8765 - val_loss: 0.3917 - val_acc: 0.9460\n",
            "Epoch 10/20\n",
            "Epoch 1/20\n",
            "100/100 - 21s - loss: 0.2962 - acc: 0.8750 - val_loss: 0.2982 - val_acc: 0.9640\n",
            "Epoch 11/20\n",
            "Epoch 1/20\n",
            "100/100 - 21s - loss: 0.2788 - acc: 0.8890 - val_loss: 0.3011 - val_acc: 0.9640\n",
            "Epoch 12/20\n",
            "Epoch 1/20\n",
            "100/100 - 22s - loss: 0.2600 - acc: 0.8865 - val_loss: 0.4432 - val_acc: 0.9480\n",
            "Epoch 13/20\n",
            "Epoch 1/20\n",
            "100/100 - 21s - loss: 0.2575 - acc: 0.8980 - val_loss: 0.3200 - val_acc: 0.9600\n",
            "Epoch 14/20\n",
            "Epoch 1/20\n",
            "100/100 - 22s - loss: 0.2759 - acc: 0.8900 - val_loss: 0.3541 - val_acc: 0.9590\n",
            "Epoch 15/20\n",
            "Epoch 1/20\n",
            "100/100 - 21s - loss: 0.2864 - acc: 0.8865 - val_loss: 0.2953 - val_acc: 0.9660\n",
            "Epoch 16/20\n",
            "Epoch 1/20\n",
            "100/100 - 21s - loss: 0.2453 - acc: 0.9015 - val_loss: 0.3380 - val_acc: 0.9620\n",
            "Epoch 17/20\n",
            "Epoch 1/20\n",
            "100/100 - 21s - loss: 0.2416 - acc: 0.9100 - val_loss: 0.4124 - val_acc: 0.9620\n",
            "Epoch 18/20\n",
            "Epoch 1/20\n",
            "100/100 - 21s - loss: 0.2424 - acc: 0.9045 - val_loss: 0.3342 - val_acc: 0.9640\n",
            "Epoch 19/20\n",
            "Epoch 1/20\n",
            "100/100 - 21s - loss: 0.2586 - acc: 0.9020 - val_loss: 0.3552 - val_acc: 0.9630\n",
            "Epoch 20/20\n",
            "Epoch 1/20\n",
            "100/100 - 21s - loss: 0.2333 - acc: 0.9075 - val_loss: 0.4266 - val_acc: 0.9560\n"
          ],
          "name": "stdout"
        }
      ]
    },
    {
      "cell_type": "code",
      "metadata": {
        "id": "C2Fp6Se9rKuL",
        "colab_type": "code",
        "outputId": "acd935ff-be05-4e07-abfe-539cb4277b78",
        "colab": {
          "base_uri": "https://localhost:8080/",
          "height": 298
        }
      },
      "source": [
        "import matplotlib.pyplot as plt\n",
        "acc = history.history['acc']\n",
        "val_acc = history.history['val_acc']\n",
        "loss = history.history['loss']\n",
        "val_loss = history.history['val_loss']\n",
        "\n",
        "epochs = range(len(acc))\n",
        "\n",
        "plt.plot(epochs, acc, 'r', label='Training accuracy')\n",
        "plt.plot(epochs, val_acc, 'b', label='Validation accuracy')\n",
        "plt.title('Training and validation accuracy')\n",
        "plt.legend(loc=0)\n",
        "plt.figure()\n",
        "\n",
        "\n",
        "plt.show()"
      ],
      "execution_count": 13,
      "outputs": [
        {
          "output_type": "display_data",
          "data": {
            "image/png": "[encoded data removed]",
            "text/plain": [
              "<Figure size 432x288 with 1 Axes>"
            ]
          },
          "metadata": {
            "tags": []
          }
        },
        {
          "output_type": "display_data",
          "data": {
            "text/plain": [
              "<Figure size 432x288 with 0 Axes>"
            ]
          },
          "metadata": {
            "tags": []
          }
        }
      ]
    },
    {
      "cell_type": "code",
      "metadata": {
        "id": "BqMxEKieLgG2",
        "colab_type": "code",
        "colab": {}
      },
      "source": [
        ""
      ],
      "execution_count": 0,
      "outputs": []
    }
  ]
}