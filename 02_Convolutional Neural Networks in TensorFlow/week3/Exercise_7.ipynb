{
  "nbformat": 4,
  "nbformat_minor": 0,
  "metadata": {
    "colab": {
      "name": "Exercise 7 - Answer.ipynb",
      "provenance": [],
      "collapsed_sections": []
    },
    "kernelspec": {
      "name": "python3",
      "display_name": "Python 3"
    },
    "accelerator": "GPU"
  },
  "cells": [
    {
      "cell_type": "code",
      "metadata": {
        "id": "lbFmQdsZs5eW",
        "colab_type": "code",
        "colab": {}
      },
      "source": [
        "# Import all the necessary files!\n",
        "import os\n",
        "import tensorflow as tf\n",
        "from tensorflow.keras import layers\n",
        "from tensorflow.keras import Model"
      ],
      "execution_count": 0,
      "outputs": []
    },
    {
      "cell_type": "code",
      "metadata": {
        "colab_type": "code",
        "id": "1xJZ5glPPCRz",
        "colab": {
          "base_uri": "https://localhost:8080/",
          "height": 272
        },
        "outputId": "e0a25ed6-c5f0-441b-fd79-6cacc400849f"
      },
      "source": [
        "# Download the inception v3 weights\n",
        "!wget --no-check-certificate \\\n",
        "    https://storage.googleapis.com/mledu-datasets/inception_v3_weights_tf_dim_ordering_tf_kernels_notop.h5 \\\n",
        "    -O /tmp/inception_v3_weights_tf_dim_ordering_tf_kernels_notop.h5\n",
        "\n",
        "# Import the inception model  \n",
        "from tensorflow.keras.applications.inception_v3 import InceptionV3\n",
        "\n",
        "# Create an instance of the inception model from the local pre-trained weights\n",
        "local_weights_file = '/tmp/inception_v3_weights_tf_dim_ordering_tf_kernels_notop.h5'\n",
        "\n",
        "pre_trained_model = InceptionV3(input_shape = (150, 150, 3), \n",
        "                                include_top = False, \n",
        "                                weights = None)\n",
        "\n",
        "pre_trained_model.load_weights(local_weights_file)\n",
        "\n",
        "# Make all the layers in the pre-trained model non-trainable\n",
        "for layer in pre_trained_model.layers:\n",
        "  layer.trainable = False\n",
        "  \n",
        "# Print the model summary\n",
        "# pre_trained_model.summary()\n",
        "\n",
        "# Expected Output is extremely large, but should end with:\n",
        "\n",
        "#batch_normalization_v1_281 (Bat (None, 3, 3, 192)    576         conv2d_281[0][0]                 \n",
        "#__________________________________________________________________________________________________\n",
        "#activation_273 (Activation)     (None, 3, 3, 320)    0           batch_normalization_v1_273[0][0] \n",
        "#__________________________________________________________________________________________________\n",
        "#mixed9_1 (Concatenate)          (None, 3, 3, 768)    0           activation_275[0][0]             \n",
        "#                                                                 activation_276[0][0]             \n",
        "#__________________________________________________________________________________________________\n",
        "#concatenate_5 (Concatenate)     (None, 3, 3, 768)    0           activation_279[0][0]             \n",
        "#                                                                 activation_280[0][0]             \n",
        "#__________________________________________________________________________________________________\n",
        "#activation_281 (Activation)     (None, 3, 3, 192)    0           batch_normalization_v1_281[0][0] \n",
        "#__________________________________________________________________________________________________\n",
        "#mixed10 (Concatenate)           (None, 3, 3, 2048)   0           activation_273[0][0]             \n",
        "#                                                                 mixed9_1[0][0]                   \n",
        "#                                                                 concatenate_5[0][0]              \n",
        "#                                                                 activation_281[0][0]             \n",
        "#==================================================================================================\n",
        "#Total params: 21,802,784\n",
        "#Trainable params: 0\n",
        "#Non-trainable params: 21,802,784"
      ],
      "execution_count": 2,
      "outputs": [
        {
          "output_type": "stream",
          "text": [
            "--2019-10-16 21:09:48--  https://storage.googleapis.com/mledu-datasets/inception_v3_weights_tf_dim_ordering_tf_kernels_notop.h5\n",
            "Resolving storage.googleapis.com (storage.googleapis.com)... 108.177.125.128, 2404:6800:4008:c01::80\n",
            "Connecting to storage.googleapis.com (storage.googleapis.com)|108.177.125.128|:443... connected.\n",
            "HTTP request sent, awaiting response... 200 OK\n",
            "Length: 87910968 (84M) [application/x-hdf]\n",
            "Saving to: ‘/tmp/inception_v3_weights_tf_dim_ordering_tf_kernels_notop.h5’\n",
            "\n",
            "/tmp/inception_v3_w 100%[===================>]  83.84M  44.7MB/s    in 1.9s    \n",
            "\n",
            "2019-10-16 21:09:51 (44.7 MB/s) - ‘/tmp/inception_v3_weights_tf_dim_ordering_tf_kernels_notop.h5’ saved [87910968/87910968]\n",
            "\n",
            "WARNING:tensorflow:From /usr/local/lib/python3.6/dist-packages/tensorflow_core/python/ops/resource_variable_ops.py:1630: calling BaseResourceVariable.__init__ (from tensorflow.python.ops.resource_variable_ops) with constraint is deprecated and will be removed in a future version.\n",
            "Instructions for updating:\n",
            "If using Keras pass *_constraint arguments to layers.\n"
          ],
          "name": "stdout"
        }
      ]
    },
    {
      "cell_type": "code",
      "metadata": {
        "id": "CFsUlwdfs_wg",
        "colab_type": "code",
        "outputId": "4e00f96f-fabb-48f7-9cf1-169e2b0ccd8d",
        "colab": {
          "base_uri": "https://localhost:8080/",
          "height": 34
        }
      },
      "source": [
        "last_layer = pre_trained_model.get_layer('mixed7')\n",
        "print('last layer output shape: ', last_layer.output_shape)\n",
        "last_output = last_layer.output\n",
        "\n",
        "# Expected Output:\n",
        "# ('last layer output shape: ', (None, 7, 7, 768))"
      ],
      "execution_count": 3,
      "outputs": [
        {
          "output_type": "stream",
          "text": [
            "last layer output shape:  (None, 7, 7, 768)\n"
          ],
          "name": "stdout"
        }
      ]
    },
    {
      "cell_type": "code",
      "metadata": {
        "id": "-bsWZWp5oMq9",
        "colab_type": "code",
        "colab": {}
      },
      "source": [
        "# Define a Callback class that stops training once accuracy reaches 99.9%\n",
        "class myCallback(tf.keras.callbacks.Callback):\n",
        "  def on_epoch_end(self, epoch, logs={}):\n",
        "    if(logs.get('acc')>0.999):\n",
        "      print(\"\\nReached 99.9% accuracy so cancelling training!\")\n",
        "      self.model.stop_training = True\n",
        "\n",
        "      "
      ],
      "execution_count": 0,
      "outputs": []
    },
    {
      "cell_type": "code",
      "metadata": {
        "colab_type": "code",
        "id": "BMXb913pbvFg",
        "colab": {
          "base_uri": "https://localhost:8080/",
          "height": 87
        },
        "outputId": "a4865235-bb75-48c9-ed29-0364f8704e30"
      },
      "source": [
        "from tensorflow.keras.optimizers import RMSprop\n",
        "\n",
        "# Flatten the output layer to 1 dimension\n",
        "x = layers.Flatten()(last_output)\n",
        "# Add a fully connected layer with 1,024 hidden units and ReLU activation\n",
        "x = layers.Dense(1024, activation='relu')(x)\n",
        "# Add a dropout rate of 0.2\n",
        "x = layers.Dropout(0.2)(x)                  \n",
        "# Add a final sigmoid layer for classification\n",
        "x = layers.Dense  (1, activation='sigmoid')(x)           \n",
        "\n",
        "model = Model(pre_trained_model.input, x) \n",
        "\n",
        "model.compile(optimizer = RMSprop(lr=0.0001), \n",
        "              loss = 'binary_crossentropy', \n",
        "              metrics = ['acc'])\n",
        "\n",
        "# model.summary()\n",
        "\n",
        "# Expected output will be large. Last few lines should be:\n",
        "\n",
        "# mixed7 (Concatenate)            (None, 7, 7, 768)    0           activation_248[0][0]             \n",
        "#                                                                  activation_251[0][0]             \n",
        "#                                                                  activation_256[0][0]             \n",
        "#                                                                  activation_257[0][0]             \n",
        "# __________________________________________________________________________________________________\n",
        "# flatten_4 (Flatten)             (None, 37632)        0           mixed7[0][0]                     \n",
        "# __________________________________________________________________________________________________\n",
        "# dense_8 (Dense)                 (None, 1024)         38536192    flatten_4[0][0]                  \n",
        "# __________________________________________________________________________________________________\n",
        "# dropout_4 (Dropout)             (None, 1024)         0           dense_8[0][0]                    \n",
        "# __________________________________________________________________________________________________\n",
        "# dense_9 (Dense)                 (None, 1)            1025        dropout_4[0][0]                  \n",
        "# ==================================================================================================\n",
        "# Total params: 47,512,481\n",
        "# Trainable params: 38,537,217\n",
        "# Non-trainable params: 8,975,264\n"
      ],
      "execution_count": 5,
      "outputs": [
        {
          "output_type": "stream",
          "text": [
            "WARNING:tensorflow:From /usr/local/lib/python3.6/dist-packages/tensorflow_core/python/ops/nn_impl.py:183: where (from tensorflow.python.ops.array_ops) is deprecated and will be removed in a future version.\n",
            "Instructions for updating:\n",
            "Use tf.where in 2.0, which has the same broadcast rule as np.where\n"
          ],
          "name": "stdout"
        }
      ]
    },
    {
      "cell_type": "code",
      "metadata": {
        "id": "HrnL_IQ8knWA",
        "colab_type": "code",
        "outputId": "f07ab748-95d8-4037-c2a0-6dfaa3a87c35",
        "colab": {
          "base_uri": "https://localhost:8080/",
          "height": 386
        }
      },
      "source": [
        "# Get the Horse or Human dataset\n",
        "!wget --no-check-certificate https://storage.googleapis.com/laurencemoroney-blog.appspot.com/horse-or-human.zip -O /tmp/horse-or-human.zip\n",
        "\n",
        "# Get the Horse or Human Validation dataset\n",
        "!wget --no-check-certificate https://storage.googleapis.com/laurencemoroney-blog.appspot.com/validation-horse-or-human.zip -O /tmp/validation-horse-or-human.zip \n",
        "  \n",
        "from tensorflow.keras.preprocessing.image import ImageDataGenerator\n",
        "\n",
        "import os\n",
        "import zipfile\n",
        "\n",
        "local_zip = '//tmp/horse-or-human.zip'\n",
        "zip_ref = zipfile.ZipFile(local_zip, 'r')\n",
        "zip_ref.extractall('/tmp/training')\n",
        "zip_ref.close()\n",
        "\n",
        "local_zip = '//tmp/validation-horse-or-human.zip'\n",
        "zip_ref = zipfile.ZipFile(local_zip, 'r')\n",
        "zip_ref.extractall('/tmp/validation')\n",
        "zip_ref.close()"
      ],
      "execution_count": 6,
      "outputs": [
        {
          "output_type": "stream",
          "text": [
            "--2019-10-16 21:11:09--  https://storage.googleapis.com/laurencemoroney-blog.appspot.com/horse-or-human.zip\n",
            "Resolving storage.googleapis.com (storage.googleapis.com)... 74.125.204.128, 2404:6800:4008:c01::80\n",
            "Connecting to storage.googleapis.com (storage.googleapis.com)|74.125.204.128|:443... connected.\n",
            "HTTP request sent, awaiting response... 200 OK\n",
            "Length: 149574867 (143M) [application/zip]\n",
            "Saving to: ‘/tmp/horse-or-human.zip’\n",
            "\n",
            "/tmp/horse-or-human 100%[===================>] 142.65M  41.5MB/s    in 3.4s    \n",
            "\n",
            "2019-10-16 21:11:14 (41.5 MB/s) - ‘/tmp/horse-or-human.zip’ saved [149574867/149574867]\n",
            "\n",
            "--2019-10-16 21:11:15--  https://storage.googleapis.com/laurencemoroney-blog.appspot.com/validation-horse-or-human.zip\n",
            "Resolving storage.googleapis.com (storage.googleapis.com)... 108.177.125.128, 2404:6800:4008:c04::80\n",
            "Connecting to storage.googleapis.com (storage.googleapis.com)|108.177.125.128|:443... connected.\n",
            "HTTP request sent, awaiting response... 200 OK\n",
            "Length: 11480187 (11M) [application/zip]\n",
            "Saving to: ‘/tmp/validation-horse-or-human.zip’\n",
            "\n",
            "/tmp/validation-hor 100%[===================>]  10.95M  --.-KB/s    in 0.07s   \n",
            "\n",
            "2019-10-16 21:11:15 (147 MB/s) - ‘/tmp/validation-horse-or-human.zip’ saved [11480187/11480187]\n",
            "\n"
          ],
          "name": "stdout"
        }
      ]
    },
    {
      "cell_type": "code",
      "metadata": {
        "id": "y9okX7_ovskI",
        "colab_type": "code",
        "outputId": "2eb789dc-0dfd-428a-8a9f-bf4a3736fa97",
        "colab": {
          "base_uri": "https://localhost:8080/",
          "height": 84
        }
      },
      "source": [
        "# Define our example directories and files\n",
        "train_dir = '/tmp/training'\n",
        "validation_dir = '/tmp/validation'\n",
        "\n",
        "train_horses_dir = os.path.join(train_dir, 'horses') # Directory with our training horse pictures\n",
        "train_humans_dir = os.path.join(train_dir, 'humans') # Directory with our training humans pictures\n",
        "validation_horses_dir = os.path.join(validation_dir, 'horses') # Directory with our validation horse pictures\n",
        "validation_humans_dir = os.path.join(validation_dir, 'humans')# Directory with our validation humanas pictures\n",
        "\n",
        "train_horses_fnames = os.listdir(train_horses_dir)\n",
        "train_humans_fnames = os.listdir(train_humans_dir)\n",
        "validation_horses_fnames = os.listdir(validation_horses_dir)\n",
        "validation_humans_fnames = os.listdir(validation_humans_dir)\n",
        "\n",
        "print(len(train_horses_fnames))\n",
        "print(len(train_humans_fnames))\n",
        "print(len(validation_horses_fnames))\n",
        "print(len(validation_humans_fnames))\n",
        "\n",
        "# Expected Output:\n",
        "# 500\n",
        "# 527\n",
        "# 128\n",
        "# 128"
      ],
      "execution_count": 8,
      "outputs": [
        {
          "output_type": "stream",
          "text": [
            "500\n",
            "527\n",
            "128\n",
            "128\n"
          ],
          "name": "stdout"
        }
      ]
    },
    {
      "cell_type": "code",
      "metadata": {
        "colab_type": "code",
        "id": "O4s8HckqGlnb",
        "outputId": "a3818d4f-7cd8-4d00-e142-6769a63ccf89",
        "colab": {
          "base_uri": "https://localhost:8080/",
          "height": 50
        }
      },
      "source": [
        "# Add our data-augmentation parameters to ImageDataGenerator\n",
        "train_datagen = ImageDataGenerator(rescale = 1./255.,\n",
        "                                   rotation_range = 40,\n",
        "                                   width_shift_range = 0.2,\n",
        "                                   height_shift_range = 0.2,\n",
        "                                   shear_range = 0.2,\n",
        "                                   zoom_range = 0.2,\n",
        "                                   horizontal_flip = True)\n",
        "\n",
        "# Note that the validation data should not be augmented!\n",
        "test_datagen = ImageDataGenerator( rescale = 1.0/255. )\n",
        "\n",
        "# Flow training images in batches of 20 using train_datagen generator\n",
        "train_generator = train_datagen.flow_from_directory(train_dir,\n",
        "                                                    batch_size = 20,\n",
        "                                                    class_mode = 'binary', \n",
        "                                                    target_size = (150, 150))     \n",
        "\n",
        "# Flow validation images in batches of 20 using test_datagen generator\n",
        "validation_generator =  test_datagen.flow_from_directory( validation_dir,\n",
        "                                                          batch_size  = 20,\n",
        "                                                          class_mode  = 'binary', \n",
        "                                                          target_size = (150, 150))\n",
        "\n",
        "# Expected Output:\n",
        "# Found 1027 images belonging to 2 classes.\n",
        "# Found 256 images belonging to 2 classes."
      ],
      "execution_count": 9,
      "outputs": [
        {
          "output_type": "stream",
          "text": [
            "Found 1027 images belonging to 2 classes.\n",
            "Found 256 images belonging to 2 classes.\n"
          ],
          "name": "stdout"
        }
      ]
    },
    {
      "cell_type": "code",
      "metadata": {
        "colab_type": "code",
        "id": "Blhq2MAUeyGA",
        "outputId": "30dc218b-b592-4b2a-d56d-23d3c8888575",
        "colab": {
          "base_uri": "https://localhost:8080/",
          "height": 1000
        }
      },
      "source": [
        "# Run this and see how many epochs it should take before the callback\n",
        "# fires, and stops training at 99.9% accuracy\n",
        "# (It should take less than 100 epochs)\n",
        "callbacks = myCallback()\n",
        "history = model.fit_generator(\n",
        "            train_generator,\n",
        "            validation_data = validation_generator,\n",
        "            steps_per_epoch = 100,\n",
        "            epochs = 100,\n",
        "            validation_steps = 50,\n",
        "            verbose = 2,\n",
        "            callbacks=[callbacks])"
      ],
      "execution_count": 10,
      "outputs": [
        {
          "output_type": "stream",
          "text": [
            "Epoch 1/100\n",
            "Epoch 1/100\n",
            "100/100 - 35s - loss: 0.2001 - acc: 0.9098 - val_loss: 0.0097 - val_acc: 0.9960\n",
            "Epoch 2/100\n",
            "Epoch 1/100\n",
            "100/100 - 29s - loss: 0.0783 - acc: 0.9706 - val_loss: 0.1001 - val_acc: 0.9808\n",
            "Epoch 3/100\n",
            "Epoch 1/100\n",
            "100/100 - 28s - loss: 0.0407 - acc: 0.9838 - val_loss: 0.0023 - val_acc: 1.0000\n",
            "Epoch 4/100\n",
            "Epoch 1/100\n",
            "100/100 - 28s - loss: 0.0555 - acc: 0.9807 - val_loss: 0.0016 - val_acc: 1.0000\n",
            "Epoch 5/100\n",
            "Epoch 1/100\n",
            "100/100 - 27s - loss: 0.0500 - acc: 0.9864 - val_loss: 0.0230 - val_acc: 0.9970\n",
            "Epoch 6/100\n",
            "Epoch 1/100\n",
            "100/100 - 28s - loss: 0.0281 - acc: 0.9913 - val_loss: 0.1794 - val_acc: 0.9686\n",
            "Epoch 7/100\n",
            "Epoch 1/100\n",
            "100/100 - 27s - loss: 0.0279 - acc: 0.9883 - val_loss: 0.0051 - val_acc: 0.9970\n",
            "Epoch 8/100\n",
            "Epoch 1/100\n",
            "100/100 - 28s - loss: 0.0393 - acc: 0.9879 - val_loss: 0.0127 - val_acc: 0.9970\n",
            "Epoch 9/100\n",
            "Epoch 1/100\n",
            "100/100 - 28s - loss: 0.0285 - acc: 0.9909 - val_loss: 0.0192 - val_acc: 0.9960\n",
            "Epoch 10/100\n",
            "Epoch 1/100\n",
            "100/100 - 28s - loss: 0.0209 - acc: 0.9934 - val_loss: 0.0282 - val_acc: 0.9960\n",
            "Epoch 11/100\n",
            "Epoch 1/100\n",
            "100/100 - 28s - loss: 0.0357 - acc: 0.9899 - val_loss: 0.0886 - val_acc: 0.9838\n",
            "Epoch 12/100\n",
            "Epoch 1/100\n",
            "100/100 - 27s - loss: 0.0174 - acc: 0.9959 - val_loss: 0.0978 - val_acc: 0.9838\n",
            "Epoch 13/100\n",
            "Epoch 1/100\n",
            "100/100 - 28s - loss: 0.0228 - acc: 0.9929 - val_loss: 0.1188 - val_acc: 0.9808\n",
            "Epoch 14/100\n",
            "Epoch 1/100\n",
            "100/100 - 26s - loss: 0.0147 - acc: 0.9940 - val_loss: 0.1858 - val_acc: 0.9686\n",
            "Epoch 15/100\n",
            "Epoch 1/100\n",
            "100/100 - 29s - loss: 0.0147 - acc: 0.9954 - val_loss: 0.2650 - val_acc: 0.9676\n",
            "Epoch 16/100\n",
            "Epoch 1/100\n",
            "100/100 - 28s - loss: 0.0208 - acc: 0.9929 - val_loss: 0.3946 - val_acc: 0.9615\n",
            "Epoch 17/100\n",
            "Epoch 1/100\n",
            "100/100 - 28s - loss: 0.0180 - acc: 0.9954 - val_loss: 0.6117 - val_acc: 0.9534\n",
            "Epoch 18/100\n",
            "Epoch 1/100\n",
            "100/100 - 28s - loss: 0.0205 - acc: 0.9949 - val_loss: 0.4880 - val_acc: 0.9565\n",
            "Epoch 19/100\n",
            "Epoch 1/100\n",
            "100/100 - 27s - loss: 0.0120 - acc: 0.9949 - val_loss: 0.5868 - val_acc: 0.9524\n",
            "Epoch 20/100\n",
            "Epoch 1/100\n",
            "100/100 - 28s - loss: 0.0177 - acc: 0.9970 - val_loss: 1.5902 - val_acc: 0.9261\n",
            "Epoch 21/100\n",
            "Epoch 1/100\n",
            "100/100 - 27s - loss: 0.0245 - acc: 0.9955 - val_loss: 0.7064 - val_acc: 0.9514\n",
            "Epoch 22/100\n",
            "Epoch 1/100\n",
            "100/100 - 28s - loss: 0.0111 - acc: 0.9954 - val_loss: 0.9056 - val_acc: 0.9433\n",
            "Epoch 23/100\n",
            "Epoch 1/100\n",
            "100/100 - 27s - loss: 0.0279 - acc: 0.9949 - val_loss: 0.8061 - val_acc: 0.9565\n",
            "Epoch 24/100\n",
            "Epoch 1/100\n",
            "100/100 - 28s - loss: 0.0189 - acc: 0.9950 - val_loss: 1.0287 - val_acc: 0.9474\n",
            "Epoch 25/100\n",
            "Epoch 1/100\n",
            "100/100 - 27s - loss: 0.0240 - acc: 0.9924 - val_loss: 1.1352 - val_acc: 0.9464\n",
            "Epoch 26/100\n",
            "Epoch 1/100\n",
            "100/100 - 27s - loss: 0.0179 - acc: 0.9939 - val_loss: 1.1725 - val_acc: 0.9423\n",
            "Epoch 27/100\n",
            "Epoch 1/100\n",
            "100/100 - 26s - loss: 0.0296 - acc: 0.9924 - val_loss: 1.1717 - val_acc: 0.9443\n",
            "Epoch 28/100\n",
            "Epoch 1/100\n",
            "100/100 - 29s - loss: 0.0037 - acc: 0.9990 - val_loss: 1.3756 - val_acc: 0.9352\n",
            "Epoch 29/100\n",
            "Epoch 1/100\n",
            "100/100 - 29s - loss: 0.0298 - acc: 0.9944 - val_loss: 1.3915 - val_acc: 0.9332\n",
            "Epoch 30/100\n",
            "Epoch 1/100\n",
            "100/100 - 28s - loss: 0.0077 - acc: 0.9980 - val_loss: 0.7803 - val_acc: 0.9555\n",
            "Epoch 31/100\n",
            "Epoch 1/100\n",
            "100/100 - 28s - loss: 0.0206 - acc: 0.9959 - val_loss: 0.6823 - val_acc: 0.9545\n",
            "Epoch 32/100\n",
            "Epoch 1/100\n",
            "100/100 - 27s - loss: 0.0080 - acc: 0.9965 - val_loss: 0.7149 - val_acc: 0.9504\n",
            "Epoch 33/100\n",
            "Epoch 1/100\n",
            "100/100 - 27s - loss: 0.0136 - acc: 0.9954 - val_loss: 0.8665 - val_acc: 0.9534\n",
            "Epoch 34/100\n",
            "Epoch 1/100\n",
            "100/100 - 27s - loss: 0.0186 - acc: 0.9965 - val_loss: 0.7365 - val_acc: 0.9524\n",
            "Epoch 35/100\n",
            "Epoch 1/100\n",
            "100/100 - 27s - loss: 0.0155 - acc: 0.9965 - val_loss: 1.0365 - val_acc: 0.9524\n",
            "Epoch 36/100\n",
            "Epoch 1/100\n",
            "100/100 - 28s - loss: 0.0086 - acc: 0.9959 - val_loss: 0.7013 - val_acc: 0.9524\n",
            "Epoch 37/100\n",
            "Epoch 1/100\n",
            "\n",
            "Reached 99.9% accuracy so cancelling training!\n",
            "100/100 - 27s - loss: 0.0022 - acc: 0.9995 - val_loss: 1.1248 - val_acc: 0.9464\n"
          ],
          "name": "stdout"
        }
      ]
    },
    {
      "cell_type": "code",
      "metadata": {
        "id": "C2Fp6Se9rKuL",
        "colab_type": "code",
        "outputId": "458207e0-ec0e-47e1-c459-fb2ccd5b682d",
        "colab": {
          "base_uri": "https://localhost:8080/",
          "height": 298
        }
      },
      "source": [
        "import matplotlib.pyplot as plt\n",
        "acc = history.history['acc']\n",
        "val_acc = history.history['val_acc']\n",
        "loss = history.history['loss']\n",
        "val_loss = history.history['val_loss']\n",
        "\n",
        "epochs = range(len(acc))\n",
        "\n",
        "plt.plot(epochs, acc, 'r', label='Training accuracy')\n",
        "plt.plot(epochs, val_acc, 'b', label='Validation accuracy')\n",
        "plt.title('Training and validation accuracy')\n",
        "plt.legend(loc=0)\n",
        "plt.figure()\n",
        "\n",
        "\n",
        "plt.show()"
      ],
      "execution_count": 11,
      "outputs": [
        {
          "output_type": "display_data",
          "data": {
            "image/png": "[encoded data removed]",
            "text/plain": [
              "<Figure size 432x288 with 1 Axes>"
            ]
          },
          "metadata": {
            "tags": []
          }
        },
        {
          "output_type": "display_data",
          "data": {
            "text/plain": [
              "<Figure size 432x288 with 0 Axes>"
            ]
          },
          "metadata": {
            "tags": []
          }
        }
      ]
    },
    {
      "cell_type": "code",
      "metadata": {
        "id": "3TSn3KDma8O0",
        "colab_type": "code",
        "colab": {}
      },
      "source": [
        ""
      ],
      "execution_count": 0,
      "outputs": []
    }
  ]
}