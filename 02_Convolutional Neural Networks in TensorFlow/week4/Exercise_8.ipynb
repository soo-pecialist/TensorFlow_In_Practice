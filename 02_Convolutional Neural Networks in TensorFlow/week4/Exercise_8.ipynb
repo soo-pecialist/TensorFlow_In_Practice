{
  "nbformat": 4,
  "nbformat_minor": 0,
  "metadata": {
    "colab": {
      "name": "Exercise 8 - Answer.ipynb",
      "provenance": []
    },
    "kernelspec": {
      "name": "python3",
      "display_name": "Python 3"
    },
    "accelerator": "GPU"
  },
  "cells": [
    {
      "cell_type": "code",
      "metadata": {
        "id": "wYtuKeK0dImp",
        "colab_type": "code",
        "colab": {}
      },
      "source": [
        "import csv\n",
        "import numpy as np\n",
        "import tensorflow as tf\n",
        "from tensorflow.keras.preprocessing.image import ImageDataGenerator\n",
        "from google.colab import files\n",
        "import pandas as pd "
      ],
      "execution_count": 0,
      "outputs": []
    },
    {
      "cell_type": "markdown",
      "metadata": {
        "id": "EmMyh9_mkDHF",
        "colab_type": "text"
      },
      "source": [
        "The data for this exercise is available at: https://www.kaggle.com/datamunge/sign-language-mnist/home\n",
        "\n",
        "Sign up and download to find 2 CSV files: sign_mnist_test.csv and sign_mnist_train.csv -- You will upload both of them using this button before you can continue.\n"
      ]
    },
    {
      "cell_type": "code",
      "metadata": {
        "id": "IcLOZlnnc_N7",
        "colab_type": "code",
        "colab": {}
      },
      "source": [
        "# uploaded=files.upload()"
      ],
      "execution_count": 0,
      "outputs": []
    },
    {
      "cell_type": "code",
      "metadata": {
        "id": "4kxw-_rmcnVu",
        "colab_type": "code",
        "outputId": "cca56ae3-42dc-4b11-ee77-6a846a4713ae",
        "colab": {
          "base_uri": "https://localhost:8080/",
          "height": 84
        }
      },
      "source": [
        " # you can use pd.read_csv and df.values() as well. \n",
        "\n",
        "# def get_data(filename):\n",
        "#     with open(filename) as training_file:\n",
        "#         csv_reader = csv.reader(training_file, delimiter=',')\n",
        "#         first_line = True\n",
        "#         temp_images = []\n",
        "#         temp_labels = []\n",
        "#         for row in csv_reader:\n",
        "#             if first_line:\n",
        "#                 # print(\"Ignoring first line\")\n",
        "#                 first_line = False\n",
        "#             else:\n",
        "#                 temp_labels.append(row[0])\n",
        "#                 image_data = row[1:785] # 28 x 28 = 784\n",
        "#                 image_data_as_array = np.array_split(image_data, 28)\n",
        "#                 temp_images.append(image_data_as_array)\n",
        "#         images = np.array(temp_images).astype('float')\n",
        "#         labels = np.array(temp_labels).astype('float')\n",
        "#     return images, labels\n",
        "\n",
        "def get_data(filename):\n",
        "\tdf = pd.read_csv(filename)\n",
        "\tarr = df.iloc[:, 1:].values\n",
        "\timages = arr.reshape(arr.shape[0], 28, -1).astype(float)\n",
        "\tlabels = df.iloc[:, 0].values.astype(float)\n",
        "\n",
        "\treturn images, labels\n",
        "\n",
        "training_images, training_labels = get_data('/content/sign_mnist_train.csv')\n",
        "testing_images, testing_labels = get_data('/content/sign_mnist_test.csv')\n",
        "\n",
        "print(training_images.shape)\n",
        "print(training_labels.shape)\n",
        "print(testing_images.shape)\n",
        "print(testing_labels.shape)\n"
      ],
      "execution_count": 3,
      "outputs": [
        {
          "output_type": "stream",
          "text": [
            "(27455, 28, 28)\n",
            "(27455,)\n",
            "(7172, 28, 28)\n",
            "(7172,)\n"
          ],
          "name": "stdout"
        }
      ]
    },
    {
      "cell_type": "code",
      "metadata": {
        "id": "awoqRpyZdQkD",
        "colab_type": "code",
        "outputId": "adc588da-a31e-43f3-c742-3bb56028c839",
        "colab": {
          "base_uri": "https://localhost:8080/",
          "height": 50
        }
      },
      "source": [
        "training_images = np.expand_dims(training_images, axis=3)\n",
        "testing_images = np.expand_dims(testing_images, axis=3)\n",
        "\n",
        "train_datagen = ImageDataGenerator(\n",
        "    rescale=1. / 255,\n",
        "    rotation_range=40,\n",
        "    width_shift_range=0.2,\n",
        "    height_shift_range=0.2,\n",
        "    shear_range=0.2,\n",
        "    zoom_range=0.2,\n",
        "    horizontal_flip=True,\n",
        "    fill_mode='nearest')\n",
        "\n",
        "validation_datagen = ImageDataGenerator(\n",
        "    rescale=1. / 255)\n",
        "\n",
        "print(training_images.shape)\n",
        "print(testing_images.shape)"
      ],
      "execution_count": 4,
      "outputs": [
        {
          "output_type": "stream",
          "text": [
            "(27455, 28, 28, 1)\n",
            "(7172, 28, 28, 1)\n"
          ],
          "name": "stdout"
        }
      ]
    },
    {
      "cell_type": "code",
      "metadata": {
        "id": "Rmb7S32cgRqS",
        "colab_type": "code",
        "outputId": "34158ab5-e1ad-4cf2-9dee-45571006b766",
        "colab": {
          "base_uri": "https://localhost:8080/",
          "height": 1000
        }
      },
      "source": [
        "model = tf.keras.models.Sequential([\n",
        "    tf.keras.layers.Conv2D(64, (3, 3), activation='relu', input_shape=(28, 28, 1)),\n",
        "    tf.keras.layers.MaxPooling2D(2, 2),\n",
        "    tf.keras.layers.Conv2D(64, (3, 3), activation='relu'),\n",
        "    tf.keras.layers.MaxPooling2D(2, 2),\n",
        "    tf.keras.layers.Flatten(),\n",
        "    tf.keras.layers.Dense(128, activation=tf.nn.relu),\n",
        "    tf.keras.layers.Dense(26, activation=tf.nn.softmax)])\n",
        "\n",
        "model.compile(optimizer = tf.train.AdamOptimizer(),\n",
        "              loss = 'sparse_categorical_crossentropy',\n",
        "              metrics=['accuracy'])\n",
        "\n",
        "model.summary()\n",
        "\n",
        "history = model.fit_generator(train_datagen.flow(training_images, training_labels, batch_size=32),\n",
        "                              steps_per_epoch=len(training_images) / 32,\n",
        "                              epochs=15,\n",
        "                              validation_data=validation_datagen.flow(testing_images, testing_labels, batch_size=32),\n",
        "                              validation_steps=len(testing_images) / 32)\n",
        "\n",
        "model.evaluate(testing_images, testing_labels)\n"
      ],
      "execution_count": 5,
      "outputs": [
        {
          "output_type": "stream",
          "text": [
            "WARNING:tensorflow:From /usr/local/lib/python3.6/dist-packages/tensorflow_core/python/ops/resource_variable_ops.py:1630: calling BaseResourceVariable.__init__ (from tensorflow.python.ops.resource_variable_ops) with constraint is deprecated and will be removed in a future version.\n",
            "Instructions for updating:\n",
            "If using Keras pass *_constraint arguments to layers.\n",
            "Model: \"sequential\"\n",
            "_________________________________________________________________\n",
            "Layer (type)                 Output Shape              Param #   \n",
            "=================================================================\n",
            "conv2d (Conv2D)              (None, 26, 26, 64)        640       \n",
            "_________________________________________________________________\n",
            "max_pooling2d (MaxPooling2D) (None, 13, 13, 64)        0         \n",
            "_________________________________________________________________\n",
            "conv2d_1 (Conv2D)            (None, 11, 11, 64)        36928     \n",
            "_________________________________________________________________\n",
            "max_pooling2d_1 (MaxPooling2 (None, 5, 5, 64)          0         \n",
            "_________________________________________________________________\n",
            "flatten (Flatten)            (None, 1600)              0         \n",
            "_________________________________________________________________\n",
            "dense (Dense)                (None, 128)               204928    \n",
            "_________________________________________________________________\n",
            "dense_1 (Dense)              (None, 26)                3354      \n",
            "=================================================================\n",
            "Total params: 245,850\n",
            "Trainable params: 245,850\n",
            "Non-trainable params: 0\n",
            "_________________________________________________________________\n",
            "Epoch 1/15\n",
            "854/857 [============================>.] - ETA: 0s - loss: 2.8022 - acc: 0.1538Epoch 1/15\n",
            "858/857 [==============================] - 19s 22ms/step - loss: 2.7995 - acc: 0.1545 - val_loss: 2.0805 - val_acc: 0.3132\n",
            "Epoch 2/15\n",
            "857/857 [============================>.] - ETA: 0s - loss: 2.0007 - acc: 0.3635Epoch 1/15\n",
            "858/857 [==============================] - 15s 18ms/step - loss: 2.0006 - acc: 0.3634 - val_loss: 1.2388 - val_acc: 0.5920\n",
            "Epoch 3/15\n",
            "854/857 [============================>.] - ETA: 0s - loss: 1.6252 - acc: 0.4749Epoch 1/15\n",
            "858/857 [==============================] - 15s 18ms/step - loss: 1.6240 - acc: 0.4751 - val_loss: 0.9090 - val_acc: 0.7190\n",
            "Epoch 4/15\n",
            "855/857 [============================>.] - ETA: 0s - loss: 1.4208 - acc: 0.5393Epoch 1/15\n",
            "858/857 [==============================] - 15s 18ms/step - loss: 1.4204 - acc: 0.5394 - val_loss: 0.8680 - val_acc: 0.6594\n",
            "Epoch 5/15\n",
            "857/857 [============================>.] - ETA: 0s - loss: 1.2567 - acc: 0.5914Epoch 1/15\n",
            "858/857 [==============================] - 15s 18ms/step - loss: 1.2565 - acc: 0.5914 - val_loss: 0.7037 - val_acc: 0.7474\n",
            "Epoch 6/15\n",
            "856/857 [============================>.] - ETA: 0s - loss: 1.1356 - acc: 0.6291Epoch 1/15\n",
            "858/857 [==============================] - 15s 17ms/step - loss: 1.1356 - acc: 0.6292 - val_loss: 0.6578 - val_acc: 0.7645\n",
            "Epoch 7/15\n",
            "855/857 [============================>.] - ETA: 0s - loss: 1.0477 - acc: 0.6548Epoch 1/15\n",
            "858/857 [==============================] - 15s 17ms/step - loss: 1.0478 - acc: 0.6548 - val_loss: 0.5500 - val_acc: 0.8021\n",
            "Epoch 8/15\n",
            "855/857 [============================>.] - ETA: 0s - loss: 0.9620 - acc: 0.6818Epoch 1/15\n",
            "858/857 [==============================] - 15s 17ms/step - loss: 0.9613 - acc: 0.6821 - val_loss: 0.5044 - val_acc: 0.8136\n",
            "Epoch 9/15\n",
            "857/857 [============================>.] - ETA: 0s - loss: 0.8930 - acc: 0.7009Epoch 1/15\n",
            "858/857 [==============================] - 15s 18ms/step - loss: 0.8930 - acc: 0.7009 - val_loss: 0.4863 - val_acc: 0.8254\n",
            "Epoch 10/15\n",
            "855/857 [============================>.] - ETA: 0s - loss: 0.8334 - acc: 0.7251Epoch 1/15\n",
            "858/857 [==============================] - 15s 18ms/step - loss: 0.8334 - acc: 0.7250 - val_loss: 0.5473 - val_acc: 0.7974\n",
            "Epoch 11/15\n",
            "856/857 [============================>.] - ETA: 0s - loss: 0.7861 - acc: 0.7365Epoch 1/15\n",
            "858/857 [==============================] - 15s 18ms/step - loss: 0.7862 - acc: 0.7366 - val_loss: 0.6485 - val_acc: 0.7871\n",
            "Epoch 12/15\n",
            "856/857 [============================>.] - ETA: 0s - loss: 0.7533 - acc: 0.7493Epoch 1/15\n",
            "858/857 [==============================] - 15s 17ms/step - loss: 0.7534 - acc: 0.7493 - val_loss: 0.5205 - val_acc: 0.8228\n",
            "Epoch 13/15\n",
            "854/857 [============================>.] - ETA: 0s - loss: 0.7098 - acc: 0.7617Epoch 1/15\n",
            "858/857 [==============================] - 15s 18ms/step - loss: 0.7097 - acc: 0.7617 - val_loss: 0.4359 - val_acc: 0.8402\n",
            "Epoch 14/15\n",
            "854/857 [============================>.] - ETA: 0s - loss: 0.6838 - acc: 0.7677Epoch 1/15\n",
            "858/857 [==============================] - 15s 17ms/step - loss: 0.6836 - acc: 0.7678 - val_loss: 0.4100 - val_acc: 0.8470\n",
            "Epoch 15/15\n",
            "854/857 [============================>.] - ETA: 0s - loss: 0.6609 - acc: 0.7788Epoch 1/15\n",
            "858/857 [==============================] - 15s 17ms/step - loss: 0.6612 - acc: 0.7788 - val_loss: 0.3472 - val_acc: 0.8703\n",
            "7172/7172 [==============================] - 1s 103us/sample - loss: 343.0618 - acc: 0.5574\n"
          ],
          "name": "stdout"
        },
        {
          "output_type": "execute_result",
          "data": {
            "text/plain": [
              "[343.0618168011233, 0.55744565]"
            ]
          },
          "metadata": {
            "tags": []
          },
          "execution_count": 5
        }
      ]
    },
    {
      "cell_type": "code",
      "metadata": {
        "id": "_Q3Zpr46dsij",
        "colab_type": "code",
        "outputId": "61e0757d-a044-47a1-efa4-783ae931700a",
        "colab": {
          "base_uri": "https://localhost:8080/",
          "height": 545
        }
      },
      "source": [
        "import matplotlib.pyplot as plt\n",
        "acc = history.history['acc']\n",
        "val_acc = history.history['val_acc']\n",
        "loss = history.history['loss']\n",
        "val_loss = history.history['val_loss']\n",
        "\n",
        "epochs = range(len(acc))\n",
        "\n",
        "plt.plot(epochs, acc, 'r', label='Training accuracy')\n",
        "plt.plot(epochs, val_acc, 'b', label='Validation accuracy')\n",
        "plt.title('Training and validation accuracy')\n",
        "plt.legend()\n",
        "plt.figure()\n",
        "\n",
        "plt.plot(epochs, loss, 'r', label='Training Loss')\n",
        "plt.plot(epochs, val_loss, 'b', label='Validation Loss')\n",
        "plt.title('Training and validation loss')\n",
        "plt.legend()\n",
        "\n",
        "plt.show()"
      ],
      "execution_count": 6,
      "outputs": [
        {
          "output_type": "display_data",
          "data": {
            "image/png": "[encoded data removed]",
            "text/plain": [
              "<Figure size 432x288 with 1 Axes>"
            ]
          },
          "metadata": {
            "tags": []
          }
        },
        {
          "output_type": "display_data",
          "data": {
            "image/png": "[encoded data removed]",
            "text/plain": [
              "<Figure size 432x288 with 1 Axes>"
            ]
          },
          "metadata": {
            "tags": []
          }
        }
      ]
    },
    {
      "cell_type": "code",
      "metadata": {
        "id": "BseNaH_pW70K",
        "colab_type": "code",
        "colab": {}
      },
      "source": [
        ""
      ],
      "execution_count": 0,
      "outputs": []
    }
  ]
}