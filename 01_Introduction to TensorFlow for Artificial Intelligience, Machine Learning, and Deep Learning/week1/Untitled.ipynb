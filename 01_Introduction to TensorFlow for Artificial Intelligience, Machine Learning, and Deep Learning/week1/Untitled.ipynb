{
 "cells": [
  {
   "cell_type": "code",
   "execution_count": 40,
   "metadata": {},
   "outputs": [],
   "source": [
    "import tensorflow as tf\n",
    "import numpy as np\n",
    "from tensorflow import keras"
   ]
  },
  {
   "cell_type": "code",
   "execution_count": 41,
   "metadata": {},
   "outputs": [],
   "source": [
    "# GRADED FUNCTION: house_model\n",
    "def house_model(y_new):\n",
    "    xs = np.array([1, 2, 3, 4, 5, 6, 7, 8, 9], dtype=float)\n",
    "    ys = np.array([1.0, 1.5, 2.0, 2.5, 3.0, 3.5, 4.0, 4.5, 5.0], dtype=float)\n",
    "    model = keras.Sequential([keras.layers.Dense(1, input_shape=[1])])\n",
    "    model.compile(optimizer='sgd', loss='mean_squared_error')\n",
    "    model.fit(xs, ys, epochs=20)\n",
    "    return model.predict(y_new)[0]"
   ]
  },
  {
   "cell_type": "code",
   "execution_count": 42,
   "metadata": {},
   "outputs": [
    {
     "name": "stdout",
     "output_type": "stream",
     "text": [
      "Train on 9 samples\n",
      "Epoch 1/20\n",
      "9/9 [==============================] - 0s 13ms/sample - loss: 21.5550\n",
      "Epoch 2/20\n",
      "9/9 [==============================] - 0s 132us/sample - loss: 2.7242\n",
      "Epoch 3/20\n",
      "9/9 [==============================] - 0s 121us/sample - loss: 0.4067\n",
      "Epoch 4/20\n",
      "9/9 [==============================] - 0s 122us/sample - loss: 0.1209\n",
      "Epoch 5/20\n",
      "9/9 [==============================] - 0s 117us/sample - loss: 0.0852\n",
      "Epoch 6/20\n",
      "9/9 [==============================] - 0s 117us/sample - loss: 0.0802\n",
      "Epoch 7/20\n",
      "9/9 [==============================] - 0s 90us/sample - loss: 0.0790\n",
      "Epoch 8/20\n",
      "9/9 [==============================] - 0s 106us/sample - loss: 0.0783\n",
      "Epoch 9/20\n",
      "9/9 [==============================] - 0s 112us/sample - loss: 0.0777\n",
      "Epoch 10/20\n",
      "9/9 [==============================] - 0s 92us/sample - loss: 0.0770\n",
      "Epoch 11/20\n",
      "9/9 [==============================] - 0s 131us/sample - loss: 0.0764\n",
      "Epoch 12/20\n",
      "9/9 [==============================] - 0s 126us/sample - loss: 0.0758\n",
      "Epoch 13/20\n",
      "9/9 [==============================] - 0s 97us/sample - loss: 0.0751\n",
      "Epoch 14/20\n",
      "9/9 [==============================] - 0s 105us/sample - loss: 0.0745\n",
      "Epoch 15/20\n",
      "9/9 [==============================] - 0s 108us/sample - loss: 0.0739\n",
      "Epoch 16/20\n",
      "9/9 [==============================] - 0s 98us/sample - loss: 0.0733\n",
      "Epoch 17/20\n",
      "9/9 [==============================] - 0s 99us/sample - loss: 0.0727\n",
      "Epoch 18/20\n",
      "9/9 [==============================] - 0s 115us/sample - loss: 0.0721\n",
      "Epoch 19/20\n",
      "9/9 [==============================] - 0s 108us/sample - loss: 0.0715\n",
      "Epoch 20/20\n",
      "9/9 [==============================] - 0s 110us/sample - loss: 0.0709\n",
      "[4.065019]\n"
     ]
    }
   ],
   "source": [
    "prediction = house_model([7.0])\n",
    "print(prediction)"
   ]
  },
  {
   "cell_type": "code",
   "execution_count": null,
   "metadata": {},
   "outputs": [],
   "source": []
  }
 ],
 "metadata": {
  "kernelspec": {
   "display_name": "tf_v2",
   "language": "python",
   "name": "tf_v2"
  },
  "language_info": {
   "codemirror_mode": {
    "name": "ipython",
    "version": 3
   },
   "file_extension": ".py",
   "mimetype": "text/x-python",
   "name": "python",
   "nbconvert_exporter": "python",
   "pygments_lexer": "ipython3",
   "version": "3.7.3"
  }
 },
 "nbformat": 4,
 "nbformat_minor": 2
}
