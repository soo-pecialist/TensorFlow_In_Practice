{
  "nbformat": 4,
  "nbformat_minor": 0,
  "metadata": {
    "colab": {
      "name": "NLP Course - Week 3 Exercise Answer.ipynb",
      "provenance": []
    },
    "kernelspec": {
      "name": "python3",
      "display_name": "Python 3"
    },
    "accelerator": "GPU"
  },
  "cells": [
    {
      "cell_type": "code",
      "metadata": {
        "id": "hmA6EzkQJ5jt",
        "colab_type": "code",
        "colab": {}
      },
      "source": [
        "import json\n",
        "import tensorflow as tf\n",
        "import csv\n",
        "import random\n",
        "import numpy as np\n",
        "\n",
        "from tensorflow.keras.preprocessing.text import Tokenizer\n",
        "from tensorflow.keras.preprocessing.sequence import pad_sequences\n",
        "from tensorflow.keras.utils import to_categorical\n",
        "from tensorflow.keras import regularizers\n",
        "\n",
        "\n",
        "embedding_dim = 100\n",
        "max_length = 16\n",
        "trunc_type='post'\n",
        "padding_type='post'\n",
        "oov_tok = \"<OOV>\"\n",
        "training_size=160000\n",
        "test_portion=.1\n",
        "\n",
        "corpus = []\n"
      ],
      "execution_count": 0,
      "outputs": []
    },
    {
      "cell_type": "code",
      "metadata": {
        "id": "bM0l_dORKqE0",
        "colab_type": "code",
        "outputId": "79121ad5-090a-42bd-d985-4bccff621655",
        "colab": {
          "base_uri": "https://localhost:8080/",
          "height": 222
        }
      },
      "source": [
        "\n",
        "# Note that I cleaned the Stanford dataset to remove LATIN1 encoding to make it easier for Python CSV reader\n",
        "# You can do that yourself with:\n",
        "# iconv -f LATIN1 -t UTF8 training.1600000.processed.noemoticon.csv -o training_cleaned.csv\n",
        "# I then hosted it on my site to make it easier to use in this notebook\n",
        "\n",
        "!wget --no-check-certificate \\\n",
        "    https://storage.googleapis.com/laurencemoroney-blog.appspot.com/training_cleaned.csv \\\n",
        "    -O /tmp/training_cleaned.csv\n",
        "\n",
        "num_sentences = 0\n",
        "\n",
        "with open(\"/tmp/training_cleaned.csv\") as csvfile:\n",
        "    reader = csv.reader(csvfile, delimiter=',')\n",
        "    for row in reader:\n",
        "        list_item=[]\n",
        "        list_item.append(row[5])\n",
        "        this_label=row[0]\n",
        "        if this_label=='0':\n",
        "            list_item.append(0)\n",
        "        else:\n",
        "            list_item.append(1)\n",
        "        num_sentences = num_sentences + 1\n",
        "        corpus.append(list_item)\n",
        "\n",
        "\n"
      ],
      "execution_count": 2,
      "outputs": [
        {
          "output_type": "stream",
          "text": [
            "--2019-10-18 10:51:24--  https://storage.googleapis.com/laurencemoroney-blog.appspot.com/training_cleaned.csv\n",
            "Resolving storage.googleapis.com (storage.googleapis.com)... 172.217.212.128, 2607:f8b0:4001:c03::80\n",
            "Connecting to storage.googleapis.com (storage.googleapis.com)|172.217.212.128|:443... connected.\n",
            "HTTP request sent, awaiting response... 200 OK\n",
            "Length: 238942690 (228M) [application/octet-stream]\n",
            "Saving to: ‘/tmp/training_cleaned.csv’\n",
            "\n",
            "/tmp/training_clean 100%[===================>] 227.87M   106MB/s    in 2.1s    \n",
            "\n",
            "2019-10-18 10:51:27 (106 MB/s) - ‘/tmp/training_cleaned.csv’ saved [238942690/238942690]\n",
            "\n"
          ],
          "name": "stdout"
        }
      ]
    },
    {
      "cell_type": "code",
      "metadata": {
        "id": "3kxblBUjEUX-",
        "colab_type": "code",
        "outputId": "6ecd7072-fe00-49e3-87ce-b638be0c559d",
        "colab": {
          "base_uri": "https://localhost:8080/",
          "height": 87
        }
      },
      "source": [
        "print(num_sentences)\n",
        "print(len(corpus))\n",
        "print(corpus[1])\n",
        "\n",
        "# Expected Output:\n",
        "# 1600000\n",
        "# 1600000\n",
        "# [\"is upset that he can't update his Facebook by texting it... and might cry as a result  School today also. Blah!\", 0]"
      ],
      "execution_count": 3,
      "outputs": [
        {
          "output_type": "stream",
          "text": [
            "1600000\n",
            "1600000\n",
            "[\"is upset that he can't update his Facebook by texting it... and might cry as a result  School today also. Blah!\", 0]\n"
          ],
          "name": "stdout"
        }
      ]
    },
    {
      "cell_type": "code",
      "metadata": {
        "id": "ohOGz24lsNAD",
        "colab_type": "code",
        "colab": {}
      },
      "source": [
        "sentences=[]\n",
        "labels=[]\n",
        "random.shuffle(corpus)\n",
        "\n",
        "for x in range(training_size):\n",
        "    sentences.append(corpus[x][0])\n",
        "    labels.append(corpus[x][1])\n",
        "\n",
        "\n",
        "tokenizer = Tokenizer()\n",
        "tokenizer.fit_on_texts(sentences)\n",
        "\n",
        "word_index = tokenizer.word_index\n",
        "vocab_size=len(word_index)\n",
        "\n",
        "sequences = tokenizer.texts_to_sequences(sentences)\n",
        "padded = pad_sequences(sequences, maxlen=max_length, padding=padding_type, truncating=trunc_type)\n",
        "\n",
        "split = int(test_portion * training_size)\n",
        "\n",
        "test_sequences = padded[0:split]\n",
        "training_sequences = padded[split:training_size]\n",
        "test_labels = labels[0:split]\n",
        "training_labels = labels[split:training_size]"
      ],
      "execution_count": 0,
      "outputs": []
    },
    {
      "cell_type": "code",
      "metadata": {
        "id": "gIrtRem1En3N",
        "colab_type": "code",
        "outputId": "0dafbbac-51a2-4e8b-ed48-7245f859fbc9",
        "colab": {
          "base_uri": "https://localhost:8080/",
          "height": 50
        }
      },
      "source": [
        "print(vocab_size)\n",
        "print(word_index['i'])\n",
        "# Expected Output\n",
        "# 138858\n",
        "# 1"
      ],
      "execution_count": 5,
      "outputs": [
        {
          "output_type": "stream",
          "text": [
            "138530\n",
            "1\n"
          ],
          "name": "stdout"
        }
      ]
    },
    {
      "cell_type": "code",
      "metadata": {
        "id": "C1zdgJkusRh0",
        "colab_type": "code",
        "outputId": "fdce001e-30d7-48ff-c8ba-7c3caf23c9fb",
        "colab": {
          "base_uri": "https://localhost:8080/",
          "height": 202
        }
      },
      "source": [
        "# Note this is the 100 dimension version of GloVe from Stanford\n",
        "# I unzipped and hosted it on my site to make this notebook easier\n",
        "!wget --no-check-certificate \\\n",
        "    https://storage.googleapis.com/laurencemoroney-blog.appspot.com/glove.6B.100d.txt \\\n",
        "    -O /tmp/glove.6B.100d.txt\n",
        "embeddings_index = {};\n",
        "with open('/tmp/glove.6B.100d.txt') as f:\n",
        "    for line in f:\n",
        "        values = line.split();\n",
        "        word = values[0];\n",
        "        coefs = np.asarray(values[1:], dtype='float32');\n",
        "        embeddings_index[word] = coefs;\n",
        "\n",
        "embeddings_matrix = np.zeros((vocab_size+1, embedding_dim));\n",
        "for word, i in word_index.items():\n",
        "    embedding_vector = embeddings_index.get(word);\n",
        "    if embedding_vector is not None:\n",
        "        embeddings_matrix[i] = embedding_vector;"
      ],
      "execution_count": 6,
      "outputs": [
        {
          "output_type": "stream",
          "text": [
            "--2019-10-18 10:58:03--  https://storage.googleapis.com/laurencemoroney-blog.appspot.com/glove.6B.100d.txt\n",
            "Resolving storage.googleapis.com (storage.googleapis.com)... 74.125.129.128, 2607:f8b0:4001:c12::80\n",
            "Connecting to storage.googleapis.com (storage.googleapis.com)|74.125.129.128|:443... connected.\n",
            "HTTP request sent, awaiting response... 200 OK\n",
            "Length: 347116733 (331M) [text/plain]\n",
            "Saving to: ‘/tmp/glove.6B.100d.txt’\n",
            "\n",
            "/tmp/glove.6B.100d. 100%[===================>] 331.04M   116MB/s    in 2.9s    \n",
            "\n",
            "2019-10-18 10:58:06 (116 MB/s) - ‘/tmp/glove.6B.100d.txt’ saved [347116733/347116733]\n",
            "\n"
          ],
          "name": "stdout"
        }
      ]
    },
    {
      "cell_type": "code",
      "metadata": {
        "id": "71NLk_lpFLNt",
        "colab_type": "code",
        "outputId": "9ab2fa10-d297-4be8-c416-fb818325fba7",
        "colab": {
          "base_uri": "https://localhost:8080/",
          "height": 34
        }
      },
      "source": [
        "print(len(embeddings_matrix))\n",
        "# Expected Output\n",
        "# 138859"
      ],
      "execution_count": 7,
      "outputs": [
        {
          "output_type": "stream",
          "text": [
            "138531\n"
          ],
          "name": "stdout"
        }
      ]
    },
    {
      "cell_type": "code",
      "metadata": {
        "colab_type": "code",
        "id": "iKKvbuEBOGFz",
        "colab": {
          "base_uri": "https://localhost:8080/",
          "height": 1000
        },
        "outputId": "e4c55663-4ce0-419c-b942-25885b80582d"
      },
      "source": [
        "model = tf.keras.Sequential([\n",
        "    tf.keras.layers.Embedding(vocab_size+1, embedding_dim, input_length=max_length, weights=[embeddings_matrix], trainable=False),\n",
        "    tf.keras.layers.Dropout(0.2),\n",
        "    tf.keras.layers.Conv1D(64, 5, activation='relu'),\n",
        "    tf.keras.layers.MaxPooling1D(pool_size=4),\n",
        "    tf.keras.layers.LSTM(64),\n",
        "    tf.keras.layers.Dense(1, activation='sigmoid')\n",
        "])\n",
        "model.compile(loss='binary_crossentropy',optimizer='adam',metrics=['accuracy'])\n",
        "model.summary()\n",
        "\n",
        "num_epochs = 50\n",
        "history = model.fit(training_sequences, training_labels, epochs=num_epochs, validation_data=(test_sequences, test_labels), verbose=2)\n",
        "\n",
        "print(\"Training Complete\")\n"
      ],
      "execution_count": 8,
      "outputs": [
        {
          "output_type": "stream",
          "text": [
            "WARNING:tensorflow:From /usr/local/lib/python3.6/dist-packages/tensorflow_core/python/keras/initializers.py:119: calling RandomUniform.__init__ (from tensorflow.python.ops.init_ops) with dtype is deprecated and will be removed in a future version.\n",
            "Instructions for updating:\n",
            "Call initializer instance with the dtype argument instead of passing it to the constructor\n",
            "WARNING:tensorflow:From /usr/local/lib/python3.6/dist-packages/tensorflow_core/python/ops/resource_variable_ops.py:1630: calling BaseResourceVariable.__init__ (from tensorflow.python.ops.resource_variable_ops) with constraint is deprecated and will be removed in a future version.\n",
            "Instructions for updating:\n",
            "If using Keras pass *_constraint arguments to layers.\n",
            "WARNING:tensorflow:From /usr/local/lib/python3.6/dist-packages/tensorflow_core/python/ops/nn_impl.py:183: where (from tensorflow.python.ops.array_ops) is deprecated and will be removed in a future version.\n",
            "Instructions for updating:\n",
            "Use tf.where in 2.0, which has the same broadcast rule as np.where\n",
            "Model: \"sequential\"\n",
            "_________________________________________________________________\n",
            "Layer (type)                 Output Shape              Param #   \n",
            "=================================================================\n",
            "embedding (Embedding)        (None, 16, 100)           13853100  \n",
            "_________________________________________________________________\n",
            "dropout (Dropout)            (None, 16, 100)           0         \n",
            "_________________________________________________________________\n",
            "conv1d (Conv1D)              (None, 12, 64)            32064     \n",
            "_________________________________________________________________\n",
            "max_pooling1d (MaxPooling1D) (None, 3, 64)             0         \n",
            "_________________________________________________________________\n",
            "lstm (LSTM)                  (None, 64)                33024     \n",
            "_________________________________________________________________\n",
            "dense (Dense)                (None, 1)                 65        \n",
            "=================================================================\n",
            "Total params: 13,918,253\n",
            "Trainable params: 65,153\n",
            "Non-trainable params: 13,853,100\n",
            "_________________________________________________________________\n",
            "Train on 144000 samples, validate on 16000 samples\n",
            "Epoch 1/50\n",
            "144000/144000 - 50s - loss: 0.5662 - acc: 0.7006 - val_loss: 0.5297 - val_acc: 0.7301\n",
            "Epoch 2/50\n",
            "144000/144000 - 47s - loss: 0.5250 - acc: 0.7342 - val_loss: 0.5323 - val_acc: 0.7341\n",
            "Epoch 3/50\n",
            "144000/144000 - 48s - loss: 0.5084 - acc: 0.7451 - val_loss: 0.5182 - val_acc: 0.7408\n",
            "Epoch 4/50\n",
            "144000/144000 - 46s - loss: 0.4977 - acc: 0.7526 - val_loss: 0.5058 - val_acc: 0.7476\n",
            "Epoch 5/50\n",
            "144000/144000 - 47s - loss: 0.4886 - acc: 0.7586 - val_loss: 0.5032 - val_acc: 0.7498\n",
            "Epoch 6/50\n",
            "144000/144000 - 46s - loss: 0.4826 - acc: 0.7632 - val_loss: 0.5048 - val_acc: 0.7482\n",
            "Epoch 7/50\n",
            "144000/144000 - 46s - loss: 0.4759 - acc: 0.7673 - val_loss: 0.5061 - val_acc: 0.7523\n",
            "Epoch 8/50\n",
            "144000/144000 - 46s - loss: 0.4710 - acc: 0.7699 - val_loss: 0.5090 - val_acc: 0.7454\n",
            "Epoch 9/50\n",
            "144000/144000 - 48s - loss: 0.4667 - acc: 0.7726 - val_loss: 0.5117 - val_acc: 0.7483\n",
            "Epoch 10/50\n",
            "144000/144000 - 47s - loss: 0.4620 - acc: 0.7759 - val_loss: 0.5067 - val_acc: 0.7485\n",
            "Epoch 11/50\n",
            "144000/144000 - 47s - loss: 0.4597 - acc: 0.7776 - val_loss: 0.5041 - val_acc: 0.7499\n",
            "Epoch 12/50\n",
            "144000/144000 - 46s - loss: 0.4570 - acc: 0.7787 - val_loss: 0.5033 - val_acc: 0.7486\n",
            "Epoch 13/50\n",
            "144000/144000 - 47s - loss: 0.4541 - acc: 0.7802 - val_loss: 0.5107 - val_acc: 0.7499\n",
            "Epoch 14/50\n",
            "144000/144000 - 48s - loss: 0.4532 - acc: 0.7816 - val_loss: 0.5067 - val_acc: 0.7505\n",
            "Epoch 15/50\n",
            "144000/144000 - 49s - loss: 0.4494 - acc: 0.7833 - val_loss: 0.5088 - val_acc: 0.7497\n",
            "Epoch 16/50\n",
            "144000/144000 - 48s - loss: 0.4492 - acc: 0.7840 - val_loss: 0.5142 - val_acc: 0.7497\n",
            "Epoch 17/50\n",
            "144000/144000 - 48s - loss: 0.4464 - acc: 0.7847 - val_loss: 0.5116 - val_acc: 0.7506\n",
            "Epoch 18/50\n",
            "144000/144000 - 48s - loss: 0.4455 - acc: 0.7857 - val_loss: 0.5080 - val_acc: 0.7476\n",
            "Epoch 19/50\n",
            "144000/144000 - 48s - loss: 0.4441 - acc: 0.7876 - val_loss: 0.5156 - val_acc: 0.7489\n",
            "Epoch 20/50\n",
            "144000/144000 - 47s - loss: 0.4422 - acc: 0.7885 - val_loss: 0.5135 - val_acc: 0.7495\n",
            "Epoch 21/50\n",
            "144000/144000 - 48s - loss: 0.4407 - acc: 0.7898 - val_loss: 0.5159 - val_acc: 0.7469\n",
            "Epoch 22/50\n",
            "144000/144000 - 48s - loss: 0.4406 - acc: 0.7895 - val_loss: 0.5148 - val_acc: 0.7464\n",
            "Epoch 23/50\n",
            "144000/144000 - 48s - loss: 0.4387 - acc: 0.7905 - val_loss: 0.5174 - val_acc: 0.7469\n",
            "Epoch 24/50\n",
            "144000/144000 - 49s - loss: 0.4377 - acc: 0.7915 - val_loss: 0.5201 - val_acc: 0.7476\n",
            "Epoch 25/50\n",
            "144000/144000 - 48s - loss: 0.4380 - acc: 0.7906 - val_loss: 0.5241 - val_acc: 0.7442\n",
            "Epoch 26/50\n",
            "144000/144000 - 48s - loss: 0.4369 - acc: 0.7909 - val_loss: 0.5165 - val_acc: 0.7422\n",
            "Epoch 27/50\n",
            "144000/144000 - 48s - loss: 0.4372 - acc: 0.7922 - val_loss: 0.5159 - val_acc: 0.7479\n",
            "Epoch 28/50\n",
            "144000/144000 - 48s - loss: 0.4359 - acc: 0.7923 - val_loss: 0.5222 - val_acc: 0.7483\n",
            "Epoch 29/50\n",
            "144000/144000 - 48s - loss: 0.4360 - acc: 0.7932 - val_loss: 0.5195 - val_acc: 0.7471\n",
            "Epoch 30/50\n",
            "144000/144000 - 49s - loss: 0.4351 - acc: 0.7926 - val_loss: 0.5205 - val_acc: 0.7487\n",
            "Epoch 31/50\n",
            "144000/144000 - 48s - loss: 0.4330 - acc: 0.7942 - val_loss: 0.5162 - val_acc: 0.7473\n",
            "Epoch 32/50\n",
            "144000/144000 - 47s - loss: 0.4326 - acc: 0.7947 - val_loss: 0.5200 - val_acc: 0.7518\n",
            "Epoch 33/50\n",
            "144000/144000 - 48s - loss: 0.4327 - acc: 0.7943 - val_loss: 0.5206 - val_acc: 0.7449\n",
            "Epoch 34/50\n",
            "144000/144000 - 49s - loss: 0.4324 - acc: 0.7937 - val_loss: 0.5251 - val_acc: 0.7471\n",
            "Epoch 35/50\n",
            "144000/144000 - 48s - loss: 0.4310 - acc: 0.7954 - val_loss: 0.5257 - val_acc: 0.7471\n",
            "Epoch 36/50\n",
            "144000/144000 - 48s - loss: 0.4324 - acc: 0.7945 - val_loss: 0.5204 - val_acc: 0.7466\n",
            "Epoch 37/50\n",
            "144000/144000 - 48s - loss: 0.4316 - acc: 0.7943 - val_loss: 0.5205 - val_acc: 0.7474\n",
            "Epoch 38/50\n",
            "144000/144000 - 47s - loss: 0.4303 - acc: 0.7950 - val_loss: 0.5186 - val_acc: 0.7446\n",
            "Epoch 39/50\n",
            "144000/144000 - 48s - loss: 0.4309 - acc: 0.7941 - val_loss: 0.5199 - val_acc: 0.7430\n",
            "Epoch 40/50\n",
            "144000/144000 - 47s - loss: 0.4290 - acc: 0.7969 - val_loss: 0.5271 - val_acc: 0.7461\n",
            "Epoch 41/50\n",
            "144000/144000 - 48s - loss: 0.4300 - acc: 0.7944 - val_loss: 0.5283 - val_acc: 0.7454\n",
            "Epoch 42/50\n",
            "144000/144000 - 48s - loss: 0.4310 - acc: 0.7947 - val_loss: 0.5209 - val_acc: 0.7502\n",
            "Epoch 43/50\n",
            "144000/144000 - 48s - loss: 0.4290 - acc: 0.7964 - val_loss: 0.5258 - val_acc: 0.7464\n",
            "Epoch 44/50\n",
            "144000/144000 - 48s - loss: 0.4287 - acc: 0.7959 - val_loss: 0.5284 - val_acc: 0.7451\n",
            "Epoch 45/50\n",
            "144000/144000 - 47s - loss: 0.4285 - acc: 0.7972 - val_loss: 0.5291 - val_acc: 0.7476\n",
            "Epoch 46/50\n",
            "144000/144000 - 47s - loss: 0.4283 - acc: 0.7965 - val_loss: 0.5255 - val_acc: 0.7430\n",
            "Epoch 47/50\n",
            "144000/144000 - 48s - loss: 0.4278 - acc: 0.7977 - val_loss: 0.5228 - val_acc: 0.7467\n",
            "Epoch 48/50\n",
            "144000/144000 - 48s - loss: 0.4276 - acc: 0.7970 - val_loss: 0.5231 - val_acc: 0.7456\n",
            "Epoch 49/50\n",
            "144000/144000 - 48s - loss: 0.4279 - acc: 0.7976 - val_loss: 0.5210 - val_acc: 0.7460\n",
            "Epoch 50/50\n",
            "144000/144000 - 47s - loss: 0.4271 - acc: 0.7968 - val_loss: 0.5190 - val_acc: 0.7481\n",
            "Training Complete\n"
          ],
          "name": "stdout"
        }
      ]
    },
    {
      "cell_type": "code",
      "metadata": {
        "id": "qxju4ItJKO8F",
        "colab_type": "code",
        "colab": {
          "base_uri": "https://localhost:8080/",
          "height": 606
        },
        "outputId": "0b29c851-b35d-4eed-cf93-ee158b55fd42"
      },
      "source": [
        "import matplotlib.image  as mpimg\n",
        "import matplotlib.pyplot as plt\n",
        "\n",
        "#-----------------------------------------------------------\n",
        "# Retrieve a list of list results on training and test data\n",
        "# sets for each training epoch\n",
        "#-----------------------------------------------------------\n",
        "acc=history.history['acc']\n",
        "val_acc=history.history['val_acc']\n",
        "loss=history.history['loss']\n",
        "val_loss=history.history['val_loss']\n",
        "\n",
        "epochs=range(len(acc)) # Get number of epochs\n",
        "\n",
        "#------------------------------------------------\n",
        "# Plot training and validation accuracy per epoch\n",
        "#------------------------------------------------\n",
        "plt.plot(epochs, acc, 'r')\n",
        "plt.plot(epochs, val_acc, 'b')\n",
        "plt.title('Training and validation accuracy')\n",
        "plt.xlabel(\"Epochs\")\n",
        "plt.ylabel(\"Accuracy\")\n",
        "plt.legend([\"Accuracy\", \"Validation Accuracy\"])\n",
        "\n",
        "plt.figure()\n",
        "\n",
        "#------------------------------------------------\n",
        "# Plot training and validation loss per epoch\n",
        "#------------------------------------------------\n",
        "plt.plot(epochs, loss, 'r')\n",
        "plt.plot(epochs, val_loss, 'b')\n",
        "plt.title('Training and validation loss')\n",
        "plt.xlabel(\"Epochs\")\n",
        "plt.ylabel(\"Loss\")\n",
        "plt.legend([\"Loss\", \"Validation Loss\"])\n",
        "\n",
        "plt.figure()\n",
        "\n",
        "\n",
        "# Expected Output\n",
        "# A chart where the validation loss does not increase sharply!"
      ],
      "execution_count": 9,
      "outputs": [
        {
          "output_type": "execute_result",
          "data": {
            "text/plain": [
              "<Figure size 432x288 with 0 Axes>"
            ]
          },
          "metadata": {
            "tags": []
          },
          "execution_count": 9
        },
        {
          "output_type": "display_data",
          "data": {
            "image/png": "[encoded data removed]",
            "text/plain": [
              "<Figure size 432x288 with 1 Axes>"
            ]
          },
          "metadata": {
            "tags": []
          }
        },
        {
          "output_type": "display_data",
          "data": {
            "image/png": "[encoded data removed]",
            "text/plain": [
              "<Figure size 432x288 with 1 Axes>"
            ]
          },
          "metadata": {
            "tags": []
          }
        },
        {
          "output_type": "display_data",
          "data": {
            "text/plain": [
              "<Figure size 432x288 with 0 Axes>"
            ]
          },
          "metadata": {
            "tags": []
          }
        }
      ]
    },
    {
      "cell_type": "code",
      "metadata": {
        "id": "kRUm_UPZsGR9",
        "colab_type": "code",
        "colab": {}
      },
      "source": [
        ""
      ],
      "execution_count": 0,
      "outputs": []
    }
  ]
}