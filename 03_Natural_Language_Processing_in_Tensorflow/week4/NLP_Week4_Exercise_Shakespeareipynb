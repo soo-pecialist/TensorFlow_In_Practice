{
  "nbformat": 4,
  "nbformat_minor": 0,
  "metadata": {
    "colab": {
      "name": "NLP_Week4_Exercise_Shakespeare_Answer.ipynb",
      "provenance": []
    },
    "kernelspec": {
      "name": "python3",
      "display_name": "Python 3"
    },
    "accelerator": "GPU"
  },
  "cells": [
    {
      "cell_type": "code",
      "metadata": {
        "id": "BOwsuGQQY9OL",
        "colab_type": "code",
        "colab": {}
      },
      "source": [
        "from tensorflow.keras.preprocessing.sequence import pad_sequences\n",
        "from tensorflow.keras.layers import Embedding, LSTM, Dense, Dropout, Bidirectional\n",
        "from tensorflow.keras.preprocessing.text import Tokenizer\n",
        "from tensorflow.keras.models import Sequential\n",
        "from tensorflow.keras.optimizers import Adam\n",
        "from tensorflow.keras import regularizers\n",
        "import tensorflow.keras.utils as ku \n",
        "import numpy as np "
      ],
      "execution_count": 0,
      "outputs": []
    },
    {
      "cell_type": "code",
      "metadata": {
        "id": "SANm6SNyXn1P",
        "colab_type": "code",
        "colab": {
          "base_uri": "https://localhost:8080/",
          "height": 202
        },
        "outputId": "daf5c8e5-2cb5-4aab-f747-64521e5b4b12"
      },
      "source": [
        "tokenizer = Tokenizer()\n",
        "!wget --no-check-certificate \\\n",
        "    https://storage.googleapis.com/laurencemoroney-blog.appspot.com/sonnets.txt \\\n",
        "    -O /tmp/sonnets.txt\n",
        "data = open('/tmp/sonnets.txt').read()"
      ],
      "execution_count": 2,
      "outputs": [
        {
          "output_type": "stream",
          "text": [
            "--2019-10-19 00:15:31--  https://storage.googleapis.com/laurencemoroney-blog.appspot.com/sonnets.txt\n",
            "Resolving storage.googleapis.com (storage.googleapis.com)... 74.125.20.128, 2607:f8b0:400e:c07::80\n",
            "Connecting to storage.googleapis.com (storage.googleapis.com)|74.125.20.128|:443... connected.\n",
            "HTTP request sent, awaiting response... 200 OK\n",
            "Length: 93578 (91K) [text/plain]\n",
            "Saving to: ‘/tmp/sonnets.txt’\n",
            "\n",
            "/tmp/sonnets.txt    100%[===================>]  91.38K  --.-KB/s    in 0.001s  \n",
            "\n",
            "2019-10-19 00:15:31 (102 MB/s) - ‘/tmp/sonnets.txt’ saved [93578/93578]\n",
            "\n"
          ],
          "name": "stdout"
        }
      ]
    },
    {
      "cell_type": "code",
      "metadata": {
        "id": "dKBwMulyXpIe",
        "colab_type": "code",
        "colab": {}
      },
      "source": [
        "corpus = data.lower().split(\"\\n\")"
      ],
      "execution_count": 0,
      "outputs": []
    },
    {
      "cell_type": "code",
      "metadata": {
        "id": "txjNR_PLYFKR",
        "colab_type": "code",
        "colab": {}
      },
      "source": [
        "tokenizer.fit_on_texts(corpus)\n",
        "total_words = len(tokenizer.word_index) + 1"
      ],
      "execution_count": 0,
      "outputs": []
    },
    {
      "cell_type": "code",
      "metadata": {
        "colab_type": "code",
        "id": "PRnDnCW-Z7qv",
        "colab": {}
      },
      "source": [
        "tokenizer = Tokenizer()\n",
        "!wget --no-check-certificate \\\n",
        "    https://storage.googleapis.com/laurencemoroney-blog.appspot.com/sonnets.txt \\\n",
        "    -O /tmp/sonnets.txt\n",
        "data = open('/tmp/sonnets.txt').read()\n",
        "\n",
        "corpus = data.lower().split(\"\\n\")\n",
        "\n",
        "\n",
        "tokenizer.fit_on_texts(corpus)\n",
        "total_words = len(tokenizer.word_index) + 1\n",
        "\n",
        "# create input sequences using list of tokens\n",
        "input_sequences = []\n",
        "for line in corpus:\n",
        "\ttoken_list = tokenizer.texts_to_sequences([line])[0]\n",
        "\tfor i in range(1, len(token_list)):\n",
        "\t\tn_gram_sequence = token_list[:i+1]\n",
        "\t\tinput_sequences.append(n_gram_sequence)\n",
        "\n",
        "\n",
        "# pad sequences \n",
        "max_sequence_len = max([len(x) for x in input_sequences])\n",
        "input_sequences = np.array(pad_sequences(input_sequences, maxlen=max_sequence_len, padding='pre'))\n",
        "\n",
        "# create predictors and label\n",
        "predictors, label = input_sequences[:,:-1],input_sequences[:,-1]\n",
        "\n",
        "label = ku.to_categorical(label, num_classes=total_words)"
      ],
      "execution_count": 0,
      "outputs": []
    },
    {
      "cell_type": "code",
      "metadata": {
        "id": "w9vH8Y59ajYL",
        "colab_type": "code",
        "colab": {
          "base_uri": "https://localhost:8080/",
          "height": 642
        },
        "outputId": "39a20223-bbcc-46e2-bb34-2f62901390d4"
      },
      "source": [
        "model = Sequential()\n",
        "model.add(Embedding(total_words, 100, input_length=max_sequence_len-1))\n",
        "model.add(Bidirectional(LSTM(150, return_sequences = True)))\n",
        "model.add(Dropout(0.2))\n",
        "model.add(LSTM(100))\n",
        "model.add(Dense(total_words/2, activation='relu', kernel_regularizer=regularizers.l2(0.01)))\n",
        "model.add(Dense(total_words, activation='softmax'))\n",
        "model.compile(loss='categorical_crossentropy', optimizer='adam', metrics=['accuracy'])\n",
        "print(model.summary())\n"
      ],
      "execution_count": 16,
      "outputs": [
        {
          "output_type": "stream",
          "text": [
            "WARNING:tensorflow:From /usr/local/lib/python3.6/dist-packages/tensorflow_core/python/keras/initializers.py:119: calling RandomUniform.__init__ (from tensorflow.python.ops.init_ops) with dtype is deprecated and will be removed in a future version.\n",
            "Instructions for updating:\n",
            "Call initializer instance with the dtype argument instead of passing it to the constructor\n",
            "WARNING:tensorflow:From /usr/local/lib/python3.6/dist-packages/tensorflow_core/python/ops/resource_variable_ops.py:1630: calling BaseResourceVariable.__init__ (from tensorflow.python.ops.resource_variable_ops) with constraint is deprecated and will be removed in a future version.\n",
            "Instructions for updating:\n",
            "If using Keras pass *_constraint arguments to layers.\n",
            "WARNING:tensorflow:From /usr/local/lib/python3.6/dist-packages/tensorflow_core/python/ops/init_ops.py:97: calling GlorotUniform.__init__ (from tensorflow.python.ops.init_ops) with dtype is deprecated and will be removed in a future version.\n",
            "Instructions for updating:\n",
            "Call initializer instance with the dtype argument instead of passing it to the constructor\n",
            "WARNING:tensorflow:From /usr/local/lib/python3.6/dist-packages/tensorflow_core/python/ops/init_ops.py:97: calling Orthogonal.__init__ (from tensorflow.python.ops.init_ops) with dtype is deprecated and will be removed in a future version.\n",
            "Instructions for updating:\n",
            "Call initializer instance with the dtype argument instead of passing it to the constructor\n",
            "WARNING:tensorflow:From /usr/local/lib/python3.6/dist-packages/tensorflow_core/python/ops/init_ops.py:97: calling Zeros.__init__ (from tensorflow.python.ops.init_ops) with dtype is deprecated and will be removed in a future version.\n",
            "Instructions for updating:\n",
            "Call initializer instance with the dtype argument instead of passing it to the constructor\n",
            "Model: \"sequential\"\n",
            "_________________________________________________________________\n",
            "Layer (type)                 Output Shape              Param #   \n",
            "=================================================================\n",
            "embedding (Embedding)        (None, 10, 100)           321100    \n",
            "_________________________________________________________________\n",
            "bidirectional (Bidirectional (None, 10, 300)           301200    \n",
            "_________________________________________________________________\n",
            "dropout (Dropout)            (None, 10, 300)           0         \n",
            "_________________________________________________________________\n",
            "lstm_1 (LSTM)                (None, 100)               160400    \n",
            "_________________________________________________________________\n",
            "dense (Dense)                (None, 1605)              162105    \n",
            "_________________________________________________________________\n",
            "dense_1 (Dense)              (None, 3211)              5156866   \n",
            "=================================================================\n",
            "Total params: 6,101,671\n",
            "Trainable params: 6,101,671\n",
            "Non-trainable params: 0\n",
            "_________________________________________________________________\n",
            "None\n"
          ],
          "name": "stdout"
        }
      ]
    },
    {
      "cell_type": "code",
      "metadata": {
        "id": "AIg2f1HBxqof",
        "colab_type": "code",
        "colab": {
          "base_uri": "https://localhost:8080/",
          "height": 1000
        },
        "outputId": "5e221e4e-0c36-41b0-ea90-33141927aaed"
      },
      "source": [
        " history = model.fit(predictors, label, epochs=100, verbose=1)"
      ],
      "execution_count": 17,
      "outputs": [
        {
          "output_type": "stream",
          "text": [
            "WARNING:tensorflow:From /usr/local/lib/python3.6/dist-packages/tensorflow_core/python/ops/math_grad.py:1424: where (from tensorflow.python.ops.array_ops) is deprecated and will be removed in a future version.\n",
            "Instructions for updating:\n",
            "Use tf.where in 2.0, which has the same broadcast rule as np.where\n",
            "Train on 15462 samples\n",
            "Epoch 1/100\n",
            "15462/15462 [==============================] - 31s 2ms/sample - loss: 6.8955 - acc: 0.0215\n",
            "Epoch 2/100\n",
            "15462/15462 [==============================] - 30s 2ms/sample - loss: 6.4973 - acc: 0.0237\n",
            "Epoch 3/100\n",
            "15462/15462 [==============================] - 30s 2ms/sample - loss: 6.3652 - acc: 0.0259\n",
            "Epoch 4/100\n",
            "15462/15462 [==============================] - 30s 2ms/sample - loss: 6.2402 - acc: 0.0299\n",
            "Epoch 5/100\n",
            "15462/15462 [==============================] - 30s 2ms/sample - loss: 6.1549 - acc: 0.0358\n",
            "Epoch 6/100\n",
            "15462/15462 [==============================] - 30s 2ms/sample - loss: 6.0724 - acc: 0.0402\n",
            "Epoch 7/100\n",
            "15462/15462 [==============================] - 29s 2ms/sample - loss: 5.9914 - acc: 0.0419\n",
            "Epoch 8/100\n",
            "15462/15462 [==============================] - 30s 2ms/sample - loss: 5.9105 - acc: 0.0437\n",
            "Epoch 9/100\n",
            "15462/15462 [==============================] - 30s 2ms/sample - loss: 5.8069 - acc: 0.0522\n",
            "Epoch 10/100\n",
            "15462/15462 [==============================] - 30s 2ms/sample - loss: 5.6901 - acc: 0.0579\n",
            "Epoch 11/100\n",
            "15462/15462 [==============================] - 30s 2ms/sample - loss: 5.5786 - acc: 0.0645\n",
            "Epoch 12/100\n",
            "15462/15462 [==============================] - 30s 2ms/sample - loss: 5.4592 - acc: 0.0734\n",
            "Epoch 13/100\n",
            "15462/15462 [==============================] - 30s 2ms/sample - loss: 5.3486 - acc: 0.0783\n",
            "Epoch 14/100\n",
            "15462/15462 [==============================] - 29s 2ms/sample - loss: 5.2443 - acc: 0.0847\n",
            "Epoch 15/100\n",
            "15462/15462 [==============================] - 29s 2ms/sample - loss: 5.1386 - acc: 0.0929\n",
            "Epoch 16/100\n",
            "15462/15462 [==============================] - 29s 2ms/sample - loss: 5.0345 - acc: 0.1023\n",
            "Epoch 17/100\n",
            "15462/15462 [==============================] - 29s 2ms/sample - loss: 4.9369 - acc: 0.1060\n",
            "Epoch 18/100\n",
            "15462/15462 [==============================] - 29s 2ms/sample - loss: 4.8311 - acc: 0.1145\n",
            "Epoch 19/100\n",
            "15462/15462 [==============================] - 29s 2ms/sample - loss: 4.7347 - acc: 0.1221\n",
            "Epoch 20/100\n",
            "15462/15462 [==============================] - 29s 2ms/sample - loss: 4.6312 - acc: 0.1339\n",
            "Epoch 21/100\n",
            "15462/15462 [==============================] - 29s 2ms/sample - loss: 4.5339 - acc: 0.1447\n",
            "Epoch 22/100\n",
            "15462/15462 [==============================] - 29s 2ms/sample - loss: 4.4282 - acc: 0.1532\n",
            "Epoch 23/100\n",
            "15462/15462 [==============================] - 29s 2ms/sample - loss: 4.3285 - acc: 0.1652\n",
            "Epoch 24/100\n",
            "15462/15462 [==============================] - 29s 2ms/sample - loss: 4.2295 - acc: 0.1791\n",
            "Epoch 25/100\n",
            "15462/15462 [==============================] - 29s 2ms/sample - loss: 4.1244 - acc: 0.1926\n",
            "Epoch 26/100\n",
            "15462/15462 [==============================] - 29s 2ms/sample - loss: 4.0358 - acc: 0.2062\n",
            "Epoch 27/100\n",
            "15462/15462 [==============================] - 29s 2ms/sample - loss: 3.9390 - acc: 0.2207\n",
            "Epoch 28/100\n",
            "15462/15462 [==============================] - 29s 2ms/sample - loss: 3.8415 - acc: 0.2346\n",
            "Epoch 29/100\n",
            "15462/15462 [==============================] - 29s 2ms/sample - loss: 3.7435 - acc: 0.2523\n",
            "Epoch 30/100\n",
            "15462/15462 [==============================] - 29s 2ms/sample - loss: 3.6550 - acc: 0.2707\n",
            "Epoch 31/100\n",
            "15462/15462 [==============================] - 29s 2ms/sample - loss: 3.5579 - acc: 0.2919\n",
            "Epoch 32/100\n",
            "15462/15462 [==============================] - 29s 2ms/sample - loss: 3.4754 - acc: 0.3029\n",
            "Epoch 33/100\n",
            "15462/15462 [==============================] - 29s 2ms/sample - loss: 3.3869 - acc: 0.3253\n",
            "Epoch 34/100\n",
            "15462/15462 [==============================] - 29s 2ms/sample - loss: 3.3128 - acc: 0.3434\n",
            "Epoch 35/100\n",
            "15462/15462 [==============================] - 29s 2ms/sample - loss: 3.2203 - acc: 0.3603\n",
            "Epoch 36/100\n",
            "15462/15462 [==============================] - 29s 2ms/sample - loss: 3.1530 - acc: 0.3747\n",
            "Epoch 37/100\n",
            "15462/15462 [==============================] - 28s 2ms/sample - loss: 3.0732 - acc: 0.3959\n",
            "Epoch 38/100\n",
            "15462/15462 [==============================] - 29s 2ms/sample - loss: 2.9993 - acc: 0.4109\n",
            "Epoch 39/100\n",
            "15462/15462 [==============================] - 28s 2ms/sample - loss: 2.9341 - acc: 0.4239\n",
            "Epoch 40/100\n",
            "15462/15462 [==============================] - 28s 2ms/sample - loss: 2.8594 - acc: 0.4404\n",
            "Epoch 41/100\n",
            "15462/15462 [==============================] - 29s 2ms/sample - loss: 2.8002 - acc: 0.4531\n",
            "Epoch 42/100\n",
            "15462/15462 [==============================] - 29s 2ms/sample - loss: 2.7400 - acc: 0.4651\n",
            "Epoch 43/100\n",
            "15462/15462 [==============================] - 29s 2ms/sample - loss: 2.6745 - acc: 0.4792\n",
            "Epoch 44/100\n",
            "15462/15462 [==============================] - 29s 2ms/sample - loss: 2.6150 - acc: 0.4957\n",
            "Epoch 45/100\n",
            "15462/15462 [==============================] - 29s 2ms/sample - loss: 2.5520 - acc: 0.5087\n",
            "Epoch 46/100\n",
            "15462/15462 [==============================] - 29s 2ms/sample - loss: 2.5073 - acc: 0.5188\n",
            "Epoch 47/100\n",
            "15462/15462 [==============================] - 29s 2ms/sample - loss: 2.4610 - acc: 0.5275\n",
            "Epoch 48/100\n",
            "15462/15462 [==============================] - 29s 2ms/sample - loss: 2.3942 - acc: 0.5458\n",
            "Epoch 49/100\n",
            "15462/15462 [==============================] - 29s 2ms/sample - loss: 2.3467 - acc: 0.5561\n",
            "Epoch 50/100\n",
            "15462/15462 [==============================] - 28s 2ms/sample - loss: 2.2994 - acc: 0.5695\n",
            "Epoch 51/100\n",
            "15462/15462 [==============================] - 28s 2ms/sample - loss: 2.2585 - acc: 0.5777\n",
            "Epoch 52/100\n",
            "15462/15462 [==============================] - 28s 2ms/sample - loss: 2.2169 - acc: 0.5838\n",
            "Epoch 53/100\n",
            "15462/15462 [==============================] - 29s 2ms/sample - loss: 2.1628 - acc: 0.5972\n",
            "Epoch 54/100\n",
            "15462/15462 [==============================] - 29s 2ms/sample - loss: 2.1153 - acc: 0.6099\n",
            "Epoch 55/100\n",
            "15462/15462 [==============================] - 29s 2ms/sample - loss: 2.0803 - acc: 0.6146\n",
            "Epoch 56/100\n",
            "15462/15462 [==============================] - 29s 2ms/sample - loss: 2.0359 - acc: 0.6260\n",
            "Epoch 57/100\n",
            "15462/15462 [==============================] - 29s 2ms/sample - loss: 1.9964 - acc: 0.6350\n",
            "Epoch 58/100\n",
            "15462/15462 [==============================] - 29s 2ms/sample - loss: 1.9591 - acc: 0.6453\n",
            "Epoch 59/100\n",
            "15462/15462 [==============================] - 29s 2ms/sample - loss: 1.9339 - acc: 0.6472\n",
            "Epoch 60/100\n",
            "15462/15462 [==============================] - 29s 2ms/sample - loss: 1.8954 - acc: 0.6581\n",
            "Epoch 61/100\n",
            "15462/15462 [==============================] - 29s 2ms/sample - loss: 1.8672 - acc: 0.6616\n",
            "Epoch 62/100\n",
            "15462/15462 [==============================] - 29s 2ms/sample - loss: 1.8139 - acc: 0.6757\n",
            "Epoch 63/100\n",
            "15462/15462 [==============================] - 29s 2ms/sample - loss: 1.7810 - acc: 0.6812\n",
            "Epoch 64/100\n",
            "15462/15462 [==============================] - 29s 2ms/sample - loss: 1.7544 - acc: 0.6894\n",
            "Epoch 65/100\n",
            "15462/15462 [==============================] - 29s 2ms/sample - loss: 1.7313 - acc: 0.6916\n",
            "Epoch 66/100\n",
            "15462/15462 [==============================] - 30s 2ms/sample - loss: 1.7037 - acc: 0.7000\n",
            "Epoch 67/100\n",
            "15462/15462 [==============================] - 30s 2ms/sample - loss: 1.6786 - acc: 0.7029\n",
            "Epoch 68/100\n",
            "15462/15462 [==============================] - 30s 2ms/sample - loss: 1.6553 - acc: 0.7086\n",
            "Epoch 69/100\n",
            "15462/15462 [==============================] - 30s 2ms/sample - loss: 1.6223 - acc: 0.7146\n",
            "Epoch 70/100\n",
            "15462/15462 [==============================] - 31s 2ms/sample - loss: 1.5979 - acc: 0.7186\n",
            "Epoch 71/100\n",
            "15462/15462 [==============================] - 31s 2ms/sample - loss: 1.5842 - acc: 0.7216\n",
            "Epoch 72/100\n",
            "15462/15462 [==============================] - 31s 2ms/sample - loss: 1.5624 - acc: 0.7285\n",
            "Epoch 73/100\n",
            "15462/15462 [==============================] - 31s 2ms/sample - loss: 1.5251 - acc: 0.7376\n",
            "Epoch 74/100\n",
            "15462/15462 [==============================] - 32s 2ms/sample - loss: 1.4912 - acc: 0.7414\n",
            "Epoch 75/100\n",
            "15462/15462 [==============================] - 31s 2ms/sample - loss: 1.4853 - acc: 0.7433\n",
            "Epoch 76/100\n",
            "15462/15462 [==============================] - 31s 2ms/sample - loss: 1.4714 - acc: 0.7451\n",
            "Epoch 77/100\n",
            "15462/15462 [==============================] - 31s 2ms/sample - loss: 1.4553 - acc: 0.7475\n",
            "Epoch 78/100\n",
            "15462/15462 [==============================] - 32s 2ms/sample - loss: 1.4272 - acc: 0.7547\n",
            "Epoch 79/100\n",
            "15462/15462 [==============================] - 31s 2ms/sample - loss: 1.4089 - acc: 0.7572\n",
            "Epoch 80/100\n",
            "15462/15462 [==============================] - 31s 2ms/sample - loss: 1.3849 - acc: 0.7654\n",
            "Epoch 81/100\n",
            "15462/15462 [==============================] - 31s 2ms/sample - loss: 1.3741 - acc: 0.7626\n",
            "Epoch 82/100\n",
            "15462/15462 [==============================] - 31s 2ms/sample - loss: 1.3688 - acc: 0.7635\n",
            "Epoch 83/100\n",
            "15462/15462 [==============================] - 31s 2ms/sample - loss: 1.3407 - acc: 0.7698\n",
            "Epoch 84/100\n",
            "15462/15462 [==============================] - 32s 2ms/sample - loss: 1.3200 - acc: 0.7777\n",
            "Epoch 85/100\n",
            "15462/15462 [==============================] - 32s 2ms/sample - loss: 1.3290 - acc: 0.7698\n",
            "Epoch 86/100\n",
            "15462/15462 [==============================] - 32s 2ms/sample - loss: 1.2959 - acc: 0.7793\n",
            "Epoch 87/100\n",
            "15462/15462 [==============================] - 32s 2ms/sample - loss: 1.2901 - acc: 0.7762\n",
            "Epoch 88/100\n",
            "15462/15462 [==============================] - 32s 2ms/sample - loss: 1.2827 - acc: 0.7809\n",
            "Epoch 89/100\n",
            "15462/15462 [==============================] - 32s 2ms/sample - loss: 1.2711 - acc: 0.7793\n",
            "Epoch 90/100\n",
            "15462/15462 [==============================] - 32s 2ms/sample - loss: 1.2451 - acc: 0.7903\n",
            "Epoch 91/100\n",
            "15462/15462 [==============================] - 32s 2ms/sample - loss: 1.2279 - acc: 0.7877\n",
            "Epoch 92/100\n",
            "15462/15462 [==============================] - 32s 2ms/sample - loss: 1.2192 - acc: 0.7906\n",
            "Epoch 93/100\n",
            "15462/15462 [==============================] - 32s 2ms/sample - loss: 1.2034 - acc: 0.7937\n",
            "Epoch 94/100\n",
            "15462/15462 [==============================] - 32s 2ms/sample - loss: 1.1880 - acc: 0.7960\n",
            "Epoch 95/100\n",
            "15462/15462 [==============================] - 32s 2ms/sample - loss: 1.1917 - acc: 0.7935\n",
            "Epoch 96/100\n",
            "15462/15462 [==============================] - 32s 2ms/sample - loss: 1.1817 - acc: 0.7950\n",
            "Epoch 97/100\n",
            "15462/15462 [==============================] - 32s 2ms/sample - loss: 1.1676 - acc: 0.7984\n",
            "Epoch 98/100\n",
            "15462/15462 [==============================] - 33s 2ms/sample - loss: 1.1551 - acc: 0.7992\n",
            "Epoch 99/100\n",
            "15462/15462 [==============================] - 32s 2ms/sample - loss: 1.1471 - acc: 0.8037\n",
            "Epoch 100/100\n",
            "15462/15462 [==============================] - 32s 2ms/sample - loss: 1.1292 - acc: 0.8046\n"
          ],
          "name": "stdout"
        }
      ]
    },
    {
      "cell_type": "code",
      "metadata": {
        "id": "1fXTEO3GJ282",
        "colab_type": "code",
        "colab": {
          "base_uri": "https://localhost:8080/",
          "height": 545
        },
        "outputId": "d1c58f9e-cfef-4c78-a32d-18ddc4422f93"
      },
      "source": [
        "import matplotlib.pyplot as plt\n",
        "acc = history.history['acc']\n",
        "loss = history.history['loss']\n",
        "\n",
        "epochs = range(len(acc))\n",
        "\n",
        "plt.plot(epochs, acc, 'b', label='Training accuracy')\n",
        "plt.title('Training accuracy')\n",
        "\n",
        "plt.figure()\n",
        "\n",
        "plt.plot(epochs, loss, 'b', label='Training Loss')\n",
        "plt.title('Training loss')\n",
        "plt.legend()\n",
        "\n",
        "plt.show()"
      ],
      "execution_count": 18,
      "outputs": [
        {
          "output_type": "display_data",
          "data": {
            "image/png": "[encoded data removed]",
            "text/plain": [
              "<Figure size 432x288 with 1 Axes>"
            ]
          },
          "metadata": {
            "tags": []
          }
        },
        {
          "output_type": "display_data",
          "data": {
            "image/png": "[encoded data removed]",
            "text/plain": [
              "<Figure size 432x288 with 1 Axes>"
            ]
          },
          "metadata": {
            "tags": []
          }
        }
      ]
    },
    {
      "cell_type": "code",
      "metadata": {
        "id": "6Vc6PHgxa6Hm",
        "colab_type": "code",
        "colab": {
          "base_uri": "https://localhost:8080/",
          "height": 54
        },
        "outputId": "6eeee766-4329-4e9a-9645-d2d6938b9f78"
      },
      "source": [
        "seed_text = \"Help me Obi Wan Kenobi, you're my only hope\"\n",
        "next_words = 100\n",
        "  \n",
        "for _ in range(next_words):\n",
        "\ttoken_list = tokenizer.texts_to_sequences([seed_text])[0]\n",
        "\ttoken_list = pad_sequences([token_list], maxlen=max_sequence_len-1, padding='pre')\n",
        "\tpredicted = model.predict_classes(token_list, verbose=0)\n",
        "\toutput_word = \"\"\n",
        "\tfor word, index in tokenizer.word_index.items():\n",
        "\t\tif index == predicted:\n",
        "\t\t\toutput_word = word\n",
        "\t\t\tbreak\n",
        "\tseed_text += \" \" + output_word\n",
        "print(seed_text)"
      ],
      "execution_count": 19,
      "outputs": [
        {
          "output_type": "stream",
          "text": [
            "Help me Obi Wan Kenobi, you're my only hope to torture me releasing slain twain twain twain twain bow twain twain twain twain twain twain twain twain twain twain twain twain twain twain twain twain twain twain twain twain twain twain twain twain twain twain twain twain twain twain twain twain twain twain twain twain twain twain twain twain twain twain twain twain twain twain twain twain twain twain twain twain twain twain twain twain twain twain twain twain twain twain twain twain twain twain twain twain twain twain twain twain twain twain twain twain twain twain twain twain twain twain twain twain twain twain twain twain twain twain\n"
          ],
          "name": "stdout"
        }
      ]
    },
    {
      "cell_type": "code",
      "metadata": {
        "id": "E4uByQCTZ1Ae",
        "colab_type": "code",
        "colab": {}
      },
      "source": [
        ""
      ],
      "execution_count": 0,
      "outputs": []
    }
  ]
}